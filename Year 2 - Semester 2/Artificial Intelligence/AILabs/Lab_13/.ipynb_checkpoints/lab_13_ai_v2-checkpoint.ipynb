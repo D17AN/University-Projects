{
 "cells": [
  {
   "cell_type": "markdown",
   "metadata": {
    "id": "0zqsP5ZELOt9"
   },
   "source": [
    "# 13. PyTorch Custom Datasets\n",
    "\n",
    "Sometime in lab 6 looked at how to build computer vision models on an in-built dataset in PyTorch (FashionMNIST).\n",
    "\n",
    "The steps we took are similar across many different problems in machine learning.\n",
    "\n",
    "Find a dataset, turn the dataset into numbers, build a model (or find an existing model) to find patterns in those numbers that can be used for prediction.\n",
    "\n",
    "PyTorch has many built-in datasets used for a wide number of machine learning benchmarks, however, you'll often want to use your own **custom dataset**."
   ]
  },
  {
   "cell_type": "markdown",
   "metadata": {
    "id": "jgwWnmUCLOt9"
   },
   "source": [
    "## What is a custom dataset?\n",
    "\n",
    "A **custom dataset** is a collection of data relating to a specific problem you're working on.\n",
    "\n",
    "In essence, a **custom dataset** can be comprised of almost anything.\n",
    "\n",
    "For example, if we were building a food image classification app like [Nutrify](https://nutrify.app), our custom dataset might be images of food.\n",
    "\n",
    "Or if we were trying to build a model to classify whether or not a text-based review on a website was positive or negative, our custom dataset might be examples of existing customer reviews and their ratings.\n",
    "\n",
    "Or if we were trying to build a sound classification app, our custom dataset might be sound samples alongside their sample labels.\n",
    "\n",
    "Or if we were trying to build a recommendation system for customers purchasing things on our website, our custom dataset might be examples of products other people have bought.\n",
    "\n",
    "<img src=\"https://raw.githubusercontent.com/mrdbourke/pytorch-deep-learning/main/images/04-pytorch-domain-libraries.png\" alt=\"different pytorch domain libraries can be used for specific PyTorch problems\" width=1000/>\n",
    "\n",
    "*PyTorch includes many existing functions to load in various custom datasets in the [`TorchVision`](https://pytorch.org/vision/stable/index.html), [`TorchText`](https://pytorch.org/text/stable/index.html), [`TorchAudio`](https://pytorch.org/audio/stable/index.html) and [`TorchRec`](https://pytorch.org/torchrec/) domain libraries.*\n",
    "\n",
    "But sometimes these existing functions may not be enough.\n",
    "\n",
    "In that case, we can always subclass `torch.utils.data.Dataset` and customize it to our liking."
   ]
  },
  {
   "cell_type": "markdown",
   "metadata": {
    "id": "SKnXwm5lLOt-"
   },
   "source": [
    "## 0. Importing PyTorch and setting up device-agnostic code"
   ]
  },
  {
   "cell_type": "code",
   "execution_count": 74,
   "metadata": {
    "id": "xBuf69DbLOt_",
    "outputId": "0d5d1674-5914-4e97-ddd1-19fc9cb5a377",
    "scrolled": true
   },
   "outputs": [],
   "source": [
    "import torch\n",
    "from torch import nn\n",
    "\n",
    "# Note: this notebook requires torch >= 1.10.0\n",
    "torch.__version__"
   ]
  },
  {
   "cell_type": "markdown",
   "metadata": {
    "id": "wQ0oKnHELOuA"
   },
   "source": [
    "And now let's follow best practice and setup device-agnostic code.\n",
    "\n",
    "> **Note:** If you're using Google Colab, and you don't have a GPU turned on yet, it's now time to turn one on via `Runtime -> Change runtime type -> Hardware accelerator -> GPU`. If you do this, your runtime will likely reset and you'll have to run all of the cells above by going `Runtime -> Run before`."
   ]
  },
  {
   "cell_type": "code",
   "execution_count": 113,
   "metadata": {
    "id": "xTUl17hwLOuA",
    "outputId": "7c5ba3b5-f984-4b90-b6ed-80d192578e0f"
   },
   "outputs": [
    {
     "data": {
      "text/plain": [
       "'cuda'"
      ]
     },
     "execution_count": 113,
     "metadata": {},
     "output_type": "execute_result"
    }
   ],
   "source": [
    "# Setup device-agnostic code\n",
    "device = \"cuda\" if torch.cuda.is_available() else \"cpu\"\n",
    "device"
   ]
  },
  {
   "cell_type": "markdown",
   "metadata": {
    "id": "Vu8pnCccLOuA"
   },
   "source": [
    "## 1. Get data\n",
    "\n",
    "First thing's first we need some data.\n",
    "\n",
    "And like any good cooking show, some data has already been prepared for us.\n",
    "\n",
    "We're going to start small.\n",
    "\n",
    "Because we're not looking to train the biggest model or use the biggest dataset yet.\n",
    "\n",
    "Machine learning is an iterative process, start small, get something working and increase when necessary.\n",
    "\n",
    "The data we're going to be using is a subset of the [Food101 dataset](https://data.vision.ee.ethz.ch/cvl/datasets_extra/food-101/).\n",
    "\n",
    "Food101 is popular computer vision benchmark as it contains 1000 images of 101 different kinds of foods, totaling 101,000 images (75,750 train and 25,250 test).\n",
    "\n",
    "Can you think of 101 different foods?\n",
    "\n",
    "Can you think of a computer program to classify 101 foods?\n",
    "\n",
    "I can.\n",
    "\n",
    "A machine learning model! \n",
    "\n",
    "\n",
    "Instead of 101 food classes though, we're going to start with 3: pizza, steak and sushi.\n",
    "\n",
    "And instead of 1,000 images per class, we're going to start with a random 10% (start small, increase when necessary).\n",
    "\n",
    "If you'd like to see where the data came from you see the following resources:\n",
    "* Original [Food101 dataset and paper website](https://data.vision.ee.ethz.ch/cvl/datasets_extra/food-101/).\n",
    "* [`torchvision.datasets.Food101`](https://pytorch.org/vision/main/generated/torchvision.datasets.Food101.html) - the version of the data I downloaded for this notebook.\n",
    "\n",
    "Let's write some code to download the formatted data from GitHub.\n",
    "\n",
    "> **Note:** The dataset we're about to use has been pre-formatted for what we'd like to use it for. However, you'll often have to format your own datasets for whatever problem you're working on. This is a regular practice in the machine learning world."
   ]
  },
  {
   "cell_type": "code",
   "execution_count": 76,
   "metadata": {
    "id": "8Pgc5XrSLOuA",
    "outputId": "79076693-3270-48ab-b738-0a282a3eb5ff"
   },
   "outputs": [],
   "source": [
    "import requests\n",
    "import zipfile\n",
    "from pathlib import Path\n",
    "\n",
    "# Setup path to data folder\n",
    "data_path = Path(\"data/\")\n",
    "image_path = data_path / \"pizza_steak_sushi\"\n",
    "\n",
    "# If the image folder doesn't exist, download it and prepare it... \n",
    "if image_path.is_dir():\n",
    "    print(f\"{image_path} directory exists.\")\n",
    "else:\n",
    "    print(f\"Did not find {image_path} directory, creating one...\")\n",
    "    image_path.mkdir(parents=True, exist_ok=True)\n",
    "    \n",
    "    # Download pizza, steak, sushi data\n",
    "    with open(data_path / \"pizza_steak_sushi.zip\", \"wb\") as f:\n",
    "        request = requests.get(\"https://github.com/mrdbourke/pytorch-deep-learning/raw/main/data/pizza_steak_sushi.zip\")\n",
    "        print(\"Downloading pizza, steak, sushi data...\")\n",
    "        f.write(request.content)\n",
    "\n",
    "    # Unzip pizza, steak, sushi data\n",
    "    with zipfile.ZipFile(data_path / \"pizza_steak_sushi.zip\", \"r\") as zip_ref:\n",
    "        print(\"Unzipping pizza, steak, sushi data...\") \n",
    "        zip_ref.extractall(image_path)"
   ]
  },
  {
   "cell_type": "markdown",
   "metadata": {
    "id": "ElU4YfN7LOuA"
   },
   "source": [
    "## 2. Become one with the data (data preparation)\n",
    "\n",
    "Dataset downloaded!\n",
    "\n",
    "Time to become one with it.\n",
    "\n",
    "This is another important step before building a model.\n",
    "\n",
    "As Abraham Lossfunction said...\n",
    "\n",
    "<img src=\"https://raw.githubusercontent.com/mrdbourke/pytorch-deep-learning/main/images/04-abraham-lossfunction.png\" alt=\"tweet by mrdbourke, if I had eight hours to build a machine learning model, I'd spend the first 6 hours preparing my dataset\" width=800/>\n",
    "\n",
    "*Data preparation is paramount. Before building a model, become one with the data. Ask: What am I trying to do here? Source: [@mrdbourke Twitter](https://twitter.com/mrdbourke).*\n",
    "\n",
    "What's inspecting the data and becoming one with it? \n",
    "\n",
    "Before starting a project or building any kind of model, it's important to know what data you're working with.\n",
    "\n",
    "In our case, we have images of pizza, steak and sushi in standard image classification format.\n",
    "\n",
    "Image classification format contains separate classes of images in seperate directories titled with a particular class name.\n",
    "\n",
    "For example, all images of `pizza` are contained in the `pizza/` directory.\n",
    "\n",
    "This format is popular across many different image classification benchmarks, including [ImageNet](https://www.image-net.org/) (of the most popular computer vision benchmark datasets).\n",
    "\n",
    "You can see an example of the storage format below, the images numbers are arbitrary.\n",
    "\n",
    "```\n",
    "pizza_steak_sushi/ <- overall dataset folder\n",
    "    train/ <- training images\n",
    "        pizza/ <- class name as folder name\n",
    "            image01.jpeg\n",
    "            image02.jpeg\n",
    "            ...\n",
    "        steak/\n",
    "            image24.jpeg\n",
    "            image25.jpeg\n",
    "            ...\n",
    "        sushi/\n",
    "            image37.jpeg\n",
    "            ...\n",
    "    test/ <- testing images\n",
    "        pizza/\n",
    "            image101.jpeg\n",
    "            image102.jpeg\n",
    "            ...\n",
    "        steak/\n",
    "            image154.jpeg\n",
    "            image155.jpeg\n",
    "            ...\n",
    "        sushi/\n",
    "            image167.jpeg\n",
    "            ...\n",
    "```\n",
    "\n",
    "The goal will be to **take this data storage structure and turn it into a dataset usable with PyTorch**.\n",
    "\n",
    "> **Note:** The structure of the data you work with will vary depending on the problem you're working on. But the premise still remains: become one with the data, then find a way to best turn it into a dataset compatible with PyTorch.\n",
    "\n",
    "We can inspect what's in our data directory by writing a small helper function to walk through each of the subdirectories and count the files present.\n",
    "\n",
    "To do so, we'll use Python's in-built [`os.walk()`](https://docs.python.org/3/library/os.html#os.walk). "
   ]
  },
  {
   "cell_type": "code",
   "execution_count": 77,
   "metadata": {
    "id": "lxiDz7lTLOuB"
   },
   "outputs": [],
   "source": [
    "import os\n",
    "def walk_through_dir(dir_path):\n",
    "  \"\"\"\n",
    "  Walks through dir_path returning its contents.\n",
    "  Args:\n",
    "    dir_path (str or pathlib.Path): target directory\n",
    "  \n",
    "  Returns:\n",
    "    A print out of:\n",
    "      number of subdiretories in dir_path\n",
    "      number of images (files) in each subdirectory\n",
    "      name of each subdirectory\n",
    "  \"\"\"\n",
    "  for dirpath, dirnames, filenames in os.walk(dir_path):\n",
    "    print(f\"There are {len(dirnames)} directories and {len(filenames)} images in '{dirpath}'.\")"
   ]
  },
  {
   "cell_type": "code",
   "execution_count": 78,
   "metadata": {
    "id": "ROUoEux1LOuB",
    "outputId": "1947e421-d07c-4fe1-8e25-8e44051cec4e"
   },
   "outputs": [],
   "source": [
    "walk_through_dir(image_path)"
   ]
  },
  {
   "cell_type": "markdown",
   "metadata": {
    "id": "nKhmJb1tLOuB"
   },
   "source": [
    "Excellent!\n",
    "\n",
    "It looks like we've got about 75 images per training class and 25 images per testing class.\n",
    "\n",
    "That should be enough to get started.\n",
    "\n",
    "Remember, these images are subsets of the original Food101 dataset.\n",
    "\n",
    "You can see how they were created in the [data creation notebook](https://github.com/mrdbourke/pytorch-deep-learning/blob/main/extras/04_custom_data_creation.ipynb).\n",
    "\n",
    "While we're at it, let's setup our training and testing paths."
   ]
  },
  {
   "cell_type": "code",
   "execution_count": 79,
   "metadata": {
    "id": "9UsLbdrMLOuB",
    "outputId": "6002a504-1852-4ee0-9c05-616304440597"
   },
   "outputs": [],
   "source": [
    "# Setup train and testing paths\n",
    "train_dir = image_path / \"train\"\n",
    "test_dir = image_path / \"test\"\n",
    "\n",
    "train_dir, test_dir"
   ]
  },
  {
   "cell_type": "markdown",
   "metadata": {
    "id": "ji5y3wFFLOuB"
   },
   "source": [
    "### 2.1 Visualize an image\n",
    "\n",
    "Okay, we've seen how our directory structure is formatted.\n",
    "\n",
    "Now in the spirit of the data explorer, it's time to *visualize, visualize, visualize!*\n",
    "\n",
    "Let's write some code to:\n",
    "1. Get all of the image paths using [`pathlib.Path.glob()`](https://docs.python.org/3/library/pathlib.html#pathlib.Path.glob) to find all of the files ending in `.jpg`. \n",
    "2. Pick a random image path using Python's [`random.choice()`](https://docs.python.org/3/library/random.html#random.choice).\n",
    "3. Get the image class name using [`pathlib.Path.parent.stem`](https://docs.python.org/3/library/pathlib.html#pathlib.PurePath.parent).\n",
    "4. And since we're working with images, we'll open the random image path using [`PIL.Image.open()`](https://pillow.readthedocs.io/en/stable/reference/Image.html#PIL.Image.open) (PIL stands for Python Image Library).\n",
    "5. We'll then show the image and print some metadata."
   ]
  },
  {
   "cell_type": "code",
   "execution_count": 80,
   "metadata": {
    "id": "t6kZM4hnLOuB",
    "outputId": "eef7e2f3-e40a-4306-97aa-7c2e4bb3d31d"
   },
   "outputs": [],
   "source": [
    "import random\n",
    "from PIL import Image\n",
    "\n",
    "# Set seed\n",
    "random.seed(42) # <- try changing this and see what happens\n",
    "\n",
    "# 1. Get all image paths (* means \"any combination\")\n",
    "image_path_list = list(image_path.glob(\"*/*/*.jpg\"))\n",
    "\n",
    "# 2. Get random image path\n",
    "random_image_path = random.choice(image_path_list)\n",
    "\n",
    "# 3. Get image class from path name (the image class is the name of the directory where the image is stored)\n",
    "image_class = random_image_path.parent.stem\n",
    "\n",
    "# 4. Open image\n",
    "img = Image.open(random_image_path)\n",
    "\n",
    "# 5. Print metadata\n",
    "print(f\"Random image path: {random_image_path}\")\n",
    "print(f\"Image class: {image_class}\")\n",
    "print(f\"Image height: {img.height}\") \n",
    "print(f\"Image width: {img.width}\")\n",
    "img"
   ]
  },
  {
   "cell_type": "markdown",
   "metadata": {
    "id": "YIOQdaleLOuB"
   },
   "source": [
    "We can do the same with [`matplotlib.pyplot.imshow()`](https://matplotlib.org/3.5.0/api/_as_gen/matplotlib.pyplot.imshow.html), except we have to convert the image to a NumPy array first."
   ]
  },
  {
   "cell_type": "code",
   "execution_count": 81,
   "metadata": {
    "id": "9TVHmuTxLOuB",
    "outputId": "5d291fb7-ca87-466f-8f8c-e000a9c18bdb"
   },
   "outputs": [],
   "source": [
    "import numpy as np\n",
    "import matplotlib.pyplot as plt\n",
    "\n",
    "# Turn the image into an array\n",
    "img_as_array = np.asarray(img)\n",
    "\n",
    "# Plot the image with matplotlib\n",
    "plt.figure(figsize=(10, 7))\n",
    "plt.imshow(img_as_array)\n",
    "plt.title(f\"Image class: {image_class} | Image shape: {img_as_array.shape} -> [height, width, color_channels]\")\n",
    "plt.axis(False);"
   ]
  },
  {
   "cell_type": "markdown",
   "metadata": {
    "id": "w-lD7Tm6LOuB"
   },
   "source": [
    "## 3. Transforming data \n",
    "\n",
    "Now what if we wanted to load our image data into PyTorch?\n",
    "\n",
    "Before we can use our image data with PyTorch we need to:\n",
    "\n",
    "1. Turn it into tensors (numerical representations of our images).\n",
    "2. Turn it into a `torch.utils.data.Dataset` and subsequently a `torch.utils.data.DataLoader`, we'll call these `Dataset` and `DataLoader` for short.\n",
    "\n",
    "There are several different kinds of pre-built datasets and dataset loaders for PyTorch, depending on the problem you're working on. \n",
    "\n",
    "| **Problem space** | **Pre-built Datasets and Functions** |\n",
    "| ----- | ----- |\n",
    "| **Vision** | [`torchvision.datasets`](https://pytorch.org/vision/stable/datasets.html) |\n",
    "| **Audio** | [`torchaudio.datasets`](https://pytorch.org/audio/stable/datasets.html) |\n",
    "| **Text** | [`torchtext.datasets`](https://pytorch.org/text/stable/datasets.html) |\n",
    "| **Recommendation system** | [`torchrec.datasets`](https://pytorch.org/torchrec/torchrec.datasets.html) |\n",
    "\n",
    "Since we're working with a vision problem, we'll be looking at `torchvision.datasets` for our data loading functions as well as [`torchvision.transforms`](https://pytorch.org/vision/stable/transforms.html) for preparing our data.\n",
    "\n",
    "Let's import some base libraries."
   ]
  },
  {
   "cell_type": "code",
   "execution_count": 82,
   "metadata": {
    "id": "R7hP3DYKLOuC"
   },
   "outputs": [],
   "source": [
    "import torch\n",
    "from torch.utils.data import DataLoader\n",
    "from torchvision import datasets, transforms"
   ]
  },
  {
   "cell_type": "markdown",
   "metadata": {
    "id": "OnhX5Xd5LOuC",
    "tags": []
   },
   "source": [
    "### 3.1 Transforming data with `torchvision.transforms`\n",
    "\n",
    "We've got folders of images but before we can use them with PyTorch, we need to convert them into tensors.\n",
    "\n",
    "One of the ways we can do this is by using the `torchvision.transforms` module.\n",
    "\n",
    "`torchvision.transforms` contains many pre-built methods for formatting images, turning them into tensors and even manipulating them for **data augmentation** (the practice of altering data to make it harder for a model to learn, we'll see this later on) purposes . \n",
    "\n",
    "To get experience with `torchvision.transforms`, let's write a series of transform steps that:\n",
    "1. Resize the images using [`transforms.Resize()`](https://pytorch.org/vision/stable/generated/torchvision.transforms.Resize.html#torchvision.transforms.Resize) (from about 512x512 to 64x64, the same shape as the images on the [CNN Explainer website](https://poloclub.github.io/cnn-explainer/)).\n",
    "2. Flip our images randomly on the horizontal using [`transforms.RandomHorizontalFlip()`](https://pytorch.org/vision/stable/generated/torchvision.transforms.RandomHorizontalFlip.html#torchvision.transforms.RandomHorizontalFlip) (this could be considered a form of data augmentation because it will artificially change our image data).\n",
    "3. Turn our images from a PIL image to a PyTorch tensor using [`transforms.ToTensor()`](https://pytorch.org/vision/stable/generated/torchvision.transforms.ToTensor.html#torchvision.transforms.ToTensor).\n",
    "\n",
    "We can compile all of these steps using [`torchvision.transforms.Compose()`](https://pytorch.org/vision/stable/generated/torchvision.transforms.Compose.html#torchvision.transforms.Compose)."
   ]
  },
  {
   "cell_type": "code",
   "execution_count": 83,
   "metadata": {
    "id": "TSLvB_09LOuC"
   },
   "outputs": [],
   "source": [
    "# Write transform for image\n",
    "data_transform = transforms.Compose([\n",
    "    # Resize the images to 64x64\n",
    "    transforms.Resize(size=(64, 64)),\n",
    "    # Flip the images randomly on the horizontal\n",
    "    transforms.RandomHorizontalFlip(p=0.5), # p = probability of flip, 0.5 = 50% chance\n",
    "    # Turn the image into a torch.Tensor\n",
    "    transforms.ToTensor() # this also converts all pixel values from 0 to 255 to be between 0.0 and 1.0 \n",
    "])"
   ]
  },
  {
   "cell_type": "markdown",
   "metadata": {
    "id": "gP8HVsE1LOuC"
   },
   "source": [
    "Now we've got a composition of transforms, let's write a function to try them out on various images."
   ]
  },
  {
   "cell_type": "code",
   "execution_count": 84,
   "metadata": {
    "id": "GNf4g901LOuC",
    "outputId": "653c424e-362d-4452-f081-245c8d3b9c70"
   },
   "outputs": [],
   "source": [
    "def plot_transformed_images(image_paths, transform, n=3, seed=42):\n",
    "    \"\"\"Plots a series of random images from image_paths.\n",
    "\n",
    "    Will open n image paths from image_paths, transform them\n",
    "    with transform and plot them side by side.\n",
    "\n",
    "    Args:\n",
    "        image_paths (list): List of target image paths. \n",
    "        transform (PyTorch Transforms): Transforms to apply to images.\n",
    "        n (int, optional): Number of images to plot. Defaults to 3.\n",
    "        seed (int, optional): Random seed for the random generator. Defaults to 42.\n",
    "    \"\"\"\n",
    "    random.seed(seed)\n",
    "    random_image_paths = random.sample(image_paths, k=n)\n",
    "    for image_path in random_image_paths:\n",
    "        with Image.open(image_path) as f:\n",
    "            fig, ax = plt.subplots(1, 2)\n",
    "            ax[0].imshow(f) \n",
    "            ax[0].set_title(f\"Original \\nSize: {f.size}\")\n",
    "            ax[0].axis(\"off\")\n",
    "\n",
    "            # Transform and plot image\n",
    "            # Note: permute() will change shape of image to suit matplotlib \n",
    "            # (PyTorch default is [C, H, W] but Matplotlib is [H, W, C])\n",
    "            transformed_image = transform(f).permute(1, 2, 0) \n",
    "            ax[1].imshow(transformed_image) \n",
    "            ax[1].set_title(f\"Transformed \\nSize: {transformed_image.shape}\")\n",
    "            ax[1].axis(\"off\")\n",
    "\n",
    "            fig.suptitle(f\"Class: {image_path.parent.stem}\", fontsize=16)\n",
    "\n",
    "plot_transformed_images(image_path_list, \n",
    "                        transform=data_transform, \n",
    "                        n=3)"
   ]
  },
  {
   "cell_type": "markdown",
   "metadata": {
    "id": "PviGaemELOuC"
   },
   "source": [
    "Nice!\n",
    "\n",
    "We've now got a way to convert our images to tensors using `torchvision.transforms`.\n",
    "\n",
    "We also manipulate their size and orientation if needed (some models prefer images of different sizes and shapes).\n",
    "\n",
    "Generally, the larger the shape of the image, the more information a model can recover.\n",
    "\n",
    "For example, an image of size `[256, 256, 3]` will have 16x more pixels than an image of size `[64, 64, 3]` (`(256*256*3)/(64*64*3)=16`).\n",
    "\n",
    "However, the tradeoff is that more pixels requires more computations.\n",
    "\n",
    "> **Exercise:** Try commenting out one of the transforms in `data_transform` and running the plotting function `plot_transformed_images()` again, what happens?"
   ]
  },
  {
   "cell_type": "markdown",
   "metadata": {
    "id": "3SAbzco8LOuD",
    "tags": []
   },
   "source": [
    "## 4. Option 1: Loading Image Data Using [`ImageFolder`](https://pytorch.org/vision/stable/generated/torchvision.datasets.ImageFolder.html#torchvision.datasets.ImageFolder)\n",
    "\n",
    "Alright, time to turn our image data into a `Dataset` capable of being used with PyTorch.\n",
    "\n",
    "Since our data is in standard image classification format, we can use the class [`torchvision.datasets.ImageFolder`](https://pytorch.org/vision/stable/generated/torchvision.datasets.ImageFolder.html#torchvision.datasets.ImageFolder).\n",
    "\n",
    "Where we can pass it the file path of a target image directory as well as a series of transforms we'd like to perform on our images.\n",
    "\n",
    "Let's test it out on our data folders `train_dir` and `test_dir` passing in `transform=data_transform` to turn our images into tensors."
   ]
  },
  {
   "cell_type": "code",
   "execution_count": 85,
   "metadata": {
    "id": "wi6BjOn3LOuD",
    "outputId": "b101d0fa-f82f-4622-a23b-f30f48760488"
   },
   "outputs": [],
   "source": [
    "# Use ImageFolder to create dataset(s)\n",
    "from torchvision import datasets\n",
    "train_data = datasets.ImageFolder(root=train_dir, # target folder of images\n",
    "                                  transform=data_transform, # transforms to perform on data (images)\n",
    "                                  target_transform=None) # transforms to perform on labels (if necessary)\n",
    "\n",
    "test_data = datasets.ImageFolder(root=test_dir, \n",
    "                                 transform=data_transform)\n",
    "\n",
    "print(f\"Train data:\\n{train_data}\\nTest data:\\n{test_data}\")"
   ]
  },
  {
   "cell_type": "markdown",
   "metadata": {
    "id": "_W5ET6sCLOuD"
   },
   "source": [
    "Beautiful!\n",
    "\n",
    "It looks like PyTorch has registered our `Dataset`'s.\n",
    "\n",
    "Let's inspect them by checking out the `classes` and `class_to_idx` attributes as well as the lengths of our training and test sets."
   ]
  },
  {
   "cell_type": "code",
   "execution_count": 86,
   "metadata": {
    "id": "PWS9bMmsLOuD",
    "outputId": "46b5adcc-ea9b-4c08-83dc-666fd6d167ec"
   },
   "outputs": [],
   "source": [
    "# Get class names as a list\n",
    "class_names = train_data.classes\n",
    "class_names"
   ]
  },
  {
   "cell_type": "code",
   "execution_count": 87,
   "metadata": {
    "id": "dkUNuwkSLOuD",
    "outputId": "4eb2dadc-02be-42b1-eedd-4a84b7b5236e"
   },
   "outputs": [],
   "source": [
    "# Can also get class names as a dict\n",
    "class_dict = train_data.class_to_idx\n",
    "class_dict"
   ]
  },
  {
   "cell_type": "code",
   "execution_count": 88,
   "metadata": {
    "id": "jaP6ab4mLOuD",
    "outputId": "feac9427-71d1-46d0-ed08-e32b323c0c0a"
   },
   "outputs": [],
   "source": [
    "# Check the lengths\n",
    "len(train_data), len(test_data)"
   ]
  },
  {
   "cell_type": "markdown",
   "metadata": {
    "id": "WajrJ4TmLOuF"
   },
   "source": [
    "Nice! Looks like we'll be able to use these to reference for later.\n",
    "\n",
    "How about our images and labels?\n",
    "\n",
    "How do they look?\n",
    "\n",
    "We can index on our `train_data` and `test_data` `Dataset`'s to find samples and their target labels."
   ]
  },
  {
   "cell_type": "code",
   "execution_count": 89,
   "metadata": {
    "id": "lKkLBabQLOuF",
    "outputId": "0714349c-b096-4ddc-e1de-39d957f1d94c"
   },
   "outputs": [],
   "source": [
    "img, label = train_data[0][0], train_data[0][1]\n",
    "print(f\"Image tensor:\\n{img}\")\n",
    "print(f\"Image shape: {img.shape}\")\n",
    "print(f\"Image datatype: {img.dtype}\")\n",
    "print(f\"Image label: {label}\")\n",
    "print(f\"Label datatype: {type(label)}\")"
   ]
  },
  {
   "cell_type": "markdown",
   "metadata": {
    "id": "2Ts1Ka2nLOuF"
   },
   "source": [
    "Our images are now in the form of a tensor (with shape `[3, 64, 64]`) and the labels are in the form of an integer relating to a specific class (as referenced by the `class_to_idx` attribute).\n",
    "\n",
    "How about we plot a single image tensor using `matplotlib`?\n",
    "\n",
    "We'll first have to to permute (rearrange the order of its dimensions) so it's compatible.\n",
    "\n",
    "Right now our image dimensions are in the format `CHW` (color channels, height, width) but `matplotlib` prefers `HWC` (height, width, color channels)."
   ]
  },
  {
   "cell_type": "code",
   "execution_count": 90,
   "metadata": {
    "id": "NBy4SqBOLOuF",
    "outputId": "95bcb014-7dd3-4f75-f71d-7799acbd4429"
   },
   "outputs": [],
   "source": [
    "# Rearrange the order of dimensions\n",
    "img_permute = img.permute(1, 2, 0)\n",
    "\n",
    "# Print out different shapes (before and after permute)\n",
    "print(f\"Original shape: {img.shape} -> [color_channels, height, width]\")\n",
    "print(f\"Image permute shape: {img_permute.shape} -> [height, width, color_channels]\")\n",
    "\n",
    "# Plot the image\n",
    "plt.figure(figsize=(10, 7))\n",
    "plt.imshow(img.permute(1, 2, 0))\n",
    "plt.axis(\"off\")\n",
    "plt.title(class_names[label], fontsize=14);"
   ]
  },
  {
   "cell_type": "markdown",
   "metadata": {
    "id": "iNsQjlX7LOuF"
   },
   "source": [
    "Notice the image is now more pixelated (less quality).\n",
    "\n",
    "This is due to it being resized from `512x512` to `64x64` pixels.\n",
    "\n",
    "The intuition here is that if you think the image is harder to recognize what's going on, chances are a model will find it harder to understand too."
   ]
  },
  {
   "cell_type": "markdown",
   "metadata": {
    "id": "m68UAwf2LOuF"
   },
   "source": [
    "### 4.1 Turn loaded images into `DataLoader`'s\n",
    "\n",
    "We've got our images as PyTorch `Dataset`'s but now let's turn them into `DataLoader`'s.\n",
    "\n",
    "We'll do so using [`torch.utils.data.DataLoader`](https://pytorch.org/docs/stable/data.html#torch.utils.data.DataLoader).\n",
    "\n",
    "Turning our `Dataset`'s into `DataLoader`'s makes them iterable so a model can go through learn the relationships between samples and targets (features and labels).\n",
    "\n",
    "To keep things simple, we'll use a `batch_size=1` and `num_workers=1`.\n",
    "\n",
    "What's `num_workers`?\n",
    "\n",
    "Good question.\n",
    "\n",
    "It defines how many subprocesses will be created to load your data.\n",
    "\n",
    "Think of it like this, the higher value `num_workers` is set to, the more compute power PyTorch will use to load your data.\n",
    "\n",
    "Personally, I usually set it to the total number of CPUs on my machine via Python's [`os.cpu_count()`](https://docs.python.org/3/library/os.html#os.cpu_count).\n",
    "\n",
    "This ensures the `DataLoader` recruits as many cores as possible to load data.\n",
    "\n",
    "> **Note:** There are more parameters you can get familiar with using `torch.utils.data.DataLoader` in the [PyTorch documentation](https://pytorch.org/docs/stable/data.html#torch.utils.data.DataLoader)."
   ]
  },
  {
   "cell_type": "code",
   "execution_count": 91,
   "metadata": {
    "id": "h0SRc79PLOuG",
    "outputId": "4bdd3b84-ee1b-4a34-c820-4eb07a6dad3c"
   },
   "outputs": [],
   "source": [
    "# Turn train and test Datasets into DataLoaders\n",
    "from torch.utils.data import DataLoader\n",
    "train_dataloader = DataLoader(dataset=train_data, \n",
    "                              batch_size=1, # how many samples per batch?\n",
    "                              num_workers=1, # how many subprocesses to use for data loading? (higher = more)\n",
    "                              shuffle=True) # shuffle the data?\n",
    "\n",
    "test_dataloader = DataLoader(dataset=test_data, \n",
    "                             batch_size=1, \n",
    "                             num_workers=1, \n",
    "                             shuffle=False) # don't usually need to shuffle testing data\n",
    "\n",
    "train_dataloader, test_dataloader"
   ]
  },
  {
   "cell_type": "markdown",
   "metadata": {
    "id": "nXLSTINqLOuG"
   },
   "source": [
    "Wonderful!\n",
    "\n",
    "Now our data is iterable.\n",
    "\n",
    "Let's try it out and check the shapes."
   ]
  },
  {
   "cell_type": "code",
   "execution_count": 92,
   "metadata": {
    "id": "OLPcm_ocLOuG",
    "outputId": "534f8fb6-38d0-44ec-d68c-fe894a51b16c"
   },
   "outputs": [],
   "source": [
    "img, label = next(iter(train_dataloader))\n",
    "\n",
    "# Batch size will now be 1, try changing the batch_size parameter above and see what happens\n",
    "print(f\"Image shape: {img.shape} -> [batch_size, color_channels, height, width]\")\n",
    "print(f\"Label shape: {label.shape}\")"
   ]
  },
  {
   "cell_type": "markdown",
   "metadata": {
    "id": "0NHKdb0MLOuG"
   },
   "source": [
    "We could now use these `DataLoader`'s with a training and testing loop to train a model.\n",
    "\n",
    "But before we do, let's look at another option to load images (or almost any other kind of data)."
   ]
  },
  {
   "cell_type": "markdown",
   "metadata": {
    "id": "3002aTmRLOuG"
   },
   "source": [
    "## 5. Option 2: Loading Image Data with a Custom `Dataset`\n",
    "\n",
    "What if a pre-built `Dataset` creator like [`torchvision.datasets.ImageFolder()`](https://pytorch.org/vision/stable/datasets.html#torchvision.datasets.ImageFolder) didn't exist?\n",
    "\n",
    "Or one for your specific problem didn't exist?\n",
    "\n",
    "Well, you could build your own.\n",
    "\n",
    "But wait, what are the pros and cons of creating your own custom way to load `Dataset`'s?\n",
    "\n",
    "| Pros of creating a custom `Dataset` | Cons of creating a custom `Dataset` |\n",
    "| ----- | ----- |\n",
    "| Can create a `Dataset` out of almost anything. | Even though you *could* create a `Dataset` out of almost anything, it doesn't mean it will work. | \n",
    "| Not limited to PyTorch pre-built `Dataset` functions. | Using a custom `Dataset` often results in writing more code, which could be prone to errors or performance issues. |\n",
    "\n",
    "To see this in action, let's work towards replicating `torchvision.datasets.ImageFolder()` by subclassing `torch.utils.data.Dataset` (the base class for all `Dataset`'s in PyTorch). \n",
    "\n",
    "We'll start by importing the modules we need:\n",
    "* Python's `os` for dealing with directories (our data is stored in directories).\n",
    "* Python's `pathlib` for dealing with filepaths (each of our images has a unique filepath).\n",
    "* `torch` for all things PyTorch.\n",
    "* PIL's `Image` class for loading images.\n",
    "* `torch.utils.data.Dataset` to subclass and create our own custom `Dataset`.\n",
    "* `torchvision.transforms` to turn our images into tensors.\n",
    "* Various types from Python's `typing` module to add type hints to our code.\n",
    "\n",
    "> **Note:** You can customize the following steps for your own dataset. The premise remains: write code to load your data in the format you'd like it."
   ]
  },
  {
   "cell_type": "code",
   "execution_count": 93,
   "metadata": {
    "id": "m3ZJ0ufeLOuG"
   },
   "outputs": [],
   "source": [
    "import os\n",
    "import pathlib\n",
    "import torch\n",
    "\n",
    "from PIL import Image\n",
    "from torch.utils.data import Dataset\n",
    "from torchvision import transforms\n",
    "from typing import Tuple, Dict, List"
   ]
  },
  {
   "cell_type": "markdown",
   "metadata": {
    "id": "liqL04pFLOuG"
   },
   "source": [
    "Remember how our instances of `torchvision.datasets.ImageFolder()` allowed us to use the `classes` and `class_to_idx` attributes?"
   ]
  },
  {
   "cell_type": "code",
   "execution_count": 94,
   "metadata": {
    "id": "VfAda_ZkLOuG",
    "outputId": "1e4062ef-d9be-486f-d5c7-446ca44d11ac"
   },
   "outputs": [],
   "source": [
    "# Instance of torchvision.datasets.ImageFolder()\n",
    "train_data.classes, train_data.class_to_idx"
   ]
  },
  {
   "cell_type": "markdown",
   "metadata": {
    "id": "QsBaHRmrLOuG"
   },
   "source": [
    "### 5.1 Creating a helper function to get class names\n",
    "\n",
    "Let's write a helper function capable of creating a list of class names and a dictionary of class names and their indexes given a directory path.\n",
    "\n",
    "To do so, we'll:\n",
    "1. Get the class names using `os.scandir()` to traverse a target directory (ideally the directory is in standard image classification format).\n",
    "2. Raise an error if the class names aren't found (if this happens, there might be something wrong with the directory structure).\n",
    "3. Turn the class names into a dictionary of numerical labels, one for each class.\n",
    "\n",
    "Let's see a small example of step 1 before we write the full function."
   ]
  },
  {
   "cell_type": "code",
   "execution_count": 95,
   "metadata": {
    "id": "-wmfJZKxLOuG",
    "outputId": "2ee0696e-07f8-4d55-b9d6-4a5c36ef40c3"
   },
   "outputs": [],
   "source": [
    "# Setup path for target directory\n",
    "target_directory = train_dir\n",
    "print(f\"Target directory: {target_directory}\")\n",
    "\n",
    "# Get the class names from the target directory\n",
    "class_names_found = sorted([entry.name for entry in list(os.scandir(image_path / \"train\"))])\n",
    "print(f\"Class names found: {class_names_found}\")"
   ]
  },
  {
   "cell_type": "markdown",
   "metadata": {
    "id": "Zi4cKawOLOuH"
   },
   "source": [
    "Excellent!\n",
    "\n",
    "How about we turn it into a full function?"
   ]
  },
  {
   "cell_type": "code",
   "execution_count": 96,
   "metadata": {
    "id": "7ZVZjASXLOuH"
   },
   "outputs": [],
   "source": [
    "# Make function to find classes in target directory\n",
    "def find_classes(directory: str) -> Tuple[List[str], Dict[str, int]]:\n",
    "    \"\"\"Finds the class folder names in a target directory.\n",
    "    \n",
    "    Assumes target directory is in standard image classification format.\n",
    "\n",
    "    Args:\n",
    "        directory (str): target directory to load classnames from.\n",
    "\n",
    "    Returns:\n",
    "        Tuple[List[str], Dict[str, int]]: (list_of_class_names, dict(class_name: idx...))\n",
    "    \n",
    "    Example:\n",
    "        find_classes(\"food_images/train\")\n",
    "        >>> ([\"class_1\", \"class_2\"], {\"class_1\": 0, ...})\n",
    "    \"\"\"\n",
    "    # 1. Get the class names by scanning the target directory\n",
    "    classes = sorted(entry.name for entry in os.scandir(directory) if entry.is_dir())\n",
    "    \n",
    "    # 2. Raise an error if class names not found\n",
    "    if not classes:\n",
    "        raise FileNotFoundError(f\"Couldn't find any classes in {directory}.\")\n",
    "        \n",
    "    # 3. Crearte a dictionary of index labels (computers prefer numerical rather than string labels)\n",
    "    class_to_idx = {cls_name: i for i, cls_name in enumerate(classes)}\n",
    "    return classes, class_to_idx"
   ]
  },
  {
   "cell_type": "markdown",
   "metadata": {
    "id": "qAw3xpYtLOuH"
   },
   "source": [
    "Looking good!\n",
    "\n",
    "Now let's test out our `find_classes()` function."
   ]
  },
  {
   "cell_type": "code",
   "execution_count": 97,
   "metadata": {
    "id": "1swv1YaeLOuH",
    "outputId": "89b40f0c-94ad-4c45-979f-9365e871c079"
   },
   "outputs": [],
   "source": [
    "find_classes(train_dir)"
   ]
  },
  {
   "cell_type": "markdown",
   "metadata": {
    "id": "W3INl70gLOuH"
   },
   "source": [
    "Woohoo! Looking good!"
   ]
  },
  {
   "cell_type": "markdown",
   "metadata": {
    "id": "KqXtAyHbLOuH"
   },
   "source": [
    "### 5.2 Create a custom `Dataset` to replicate `ImageFolder`\n",
    "\n",
    "Now we're ready to build our own custom `Dataset`.\n",
    "\n",
    "We'll build one to replicate the functionality of `torchvision.datasets.ImageFolder()`. \n",
    "\n",
    "This will be good practice, plus, it'll reveal a few of the required steps to make your own custom `Dataset`.\n",
    "\n",
    "It'll be a fair bit of a code... but nothing we can't handle!\n",
    "\n",
    "Let's break it down:\n",
    "1. Subclass `torch.utils.data.Dataset`.\n",
    "2. Initialize our subclass with a `targ_dir` parameter (the target data directory) and `transform` parameter (so we have the option to transform our data if needed).\n",
    "3. Create several attributes for `paths` (the paths of our target images), `transform` (the transforms we might like to use, this can be `None`), `classes` and `class_to_idx` (from our `find_classes()` function).\n",
    "4. Create a function to load images from file and return them, this could be using `PIL` or [`torchvision.io`](https://pytorch.org/vision/stable/io.html#image) (for input/output of vision data). \n",
    "5. Overwrite the `__len__` method of `torch.utils.data.Dataset` to return the number of samples in the `Dataset`, this is recommended but not required. This is so you can call `len(Dataset)`.\n",
    "6. Overwrite the `__getitem__` method of `torch.utils.data.Dataset` to return a single sample from the `Dataset`, this is required.\n",
    "\n",
    "Let's do it!"
   ]
  },
  {
   "cell_type": "code",
   "execution_count": 98,
   "metadata": {
    "id": "UcBEzbQqLOuH"
   },
   "outputs": [],
   "source": [
    "# Write a custom dataset class (inherits from torch.utils.data.Dataset)\n",
    "from torch.utils.data import Dataset\n",
    "\n",
    "# 1. Subclass torch.utils.data.Dataset\n",
    "class ImageFolderCustom(Dataset):\n",
    "    \n",
    "    # 2. Initialize with a targ_dir and transform (optional) parameter\n",
    "    def __init__(self, targ_dir: str, transform=None) -> None:\n",
    "        \n",
    "        # 3. Create class attributes\n",
    "        # Get all image paths\n",
    "        self.paths = list(pathlib.Path(targ_dir).glob(\"*/*.jpg\")) # note: you'd have to update this if you've got .png's or .jpeg's\n",
    "        # Setup transforms\n",
    "        self.transform = transform\n",
    "        # Create classes and class_to_idx attributes\n",
    "        self.classes, self.class_to_idx = find_classes(targ_dir)\n",
    "\n",
    "    # 4. Make function to load images\n",
    "    def load_image(self, index: int) -> Image.Image:\n",
    "        \"Opens an image via a path and returns it.\"\n",
    "        image_path = self.paths[index]\n",
    "        return Image.open(image_path) \n",
    "    \n",
    "    # 5. Overwrite the __len__() method (optional but recommended for subclasses of torch.utils.data.Dataset)\n",
    "    def __len__(self) -> int:\n",
    "        \"Returns the total number of samples.\"\n",
    "        return len(self.paths)\n",
    "    \n",
    "    # 6. Overwrite the __getitem__() method (required for subclasses of torch.utils.data.Dataset)\n",
    "    def __getitem__(self, index: int) -> Tuple[torch.Tensor, int]:\n",
    "        \"Returns one sample of data, data and label (X, y).\"\n",
    "        img = self.load_image(index)\n",
    "        class_name  = self.paths[index].parent.name # expects path in data_folder/class_name/image.jpeg\n",
    "        class_idx = self.class_to_idx[class_name]\n",
    "\n",
    "        # Transform if necessary\n",
    "        if self.transform:\n",
    "            return self.transform(img), class_idx # return data, label (X, y)\n",
    "        else:\n",
    "            return img, class_idx # return data, label (X, y)"
   ]
  },
  {
   "cell_type": "markdown",
   "metadata": {
    "id": "16gwE3QtLOuH"
   },
   "source": [
    "Woah! A whole bunch of code to load in our images.\n",
    "\n",
    "This is one of the downsides of creating your own custom `Dataset`'s.\n",
    "\n",
    "However, now we've written it once, we could move it into a `.py` file such as `data_loader.py` along with some other helpful data functions and reuse it later on. \n",
    "\n",
    "Before we test out our new `ImageFolderCustom` class, let's create some transforms to prepare our images."
   ]
  },
  {
   "cell_type": "code",
   "execution_count": 99,
   "metadata": {
    "id": "xqKE0gIyLOuH"
   },
   "outputs": [],
   "source": [
    "# Augment train data\n",
    "train_transforms = transforms.Compose([\n",
    "    transforms.Resize((64, 64)),\n",
    "    transforms.RandomHorizontalFlip(p=0.5),\n",
    "    transforms.ToTensor()\n",
    "])\n",
    "\n",
    "# Don't augment test data, only reshape\n",
    "test_transforms = transforms.Compose([\n",
    "    transforms.Resize((64, 64)),\n",
    "    transforms.ToTensor()\n",
    "])"
   ]
  },
  {
   "cell_type": "markdown",
   "metadata": {
    "id": "KsJMzTebLOuH"
   },
   "source": [
    "Now comes the moment of truth!\n",
    "\n",
    "Let's turn our training images (contained in `train_dir`) and our testing images (contained in `test_dir`) into `Dataset`'s using our own `ImageFolderCustom` class."
   ]
  },
  {
   "cell_type": "code",
   "execution_count": 100,
   "metadata": {
    "id": "FygRYQ8_LOuH",
    "outputId": "99600569-98f2-46c6-b8cf-cf58f51ad5bd"
   },
   "outputs": [],
   "source": [
    "train_data_custom = ImageFolderCustom(targ_dir=train_dir, \n",
    "                                      transform=train_transforms)\n",
    "test_data_custom = ImageFolderCustom(targ_dir=test_dir, \n",
    "                                     transform=test_transforms)\n",
    "train_data_custom, test_data_custom"
   ]
  },
  {
   "cell_type": "markdown",
   "metadata": {
    "id": "ESTaSNiyLOuH"
   },
   "source": [
    "Hmm... no errors, did it work?\n",
    "\n",
    "Let's try calling `len()` on our new `Dataset`'s and find the `classes` and `class_to_idx` attributes."
   ]
  },
  {
   "cell_type": "code",
   "execution_count": 101,
   "metadata": {
    "id": "CebXl-sfLOuH",
    "outputId": "f8370186-c99b-4fef-a40f-72d3bb1b3b30"
   },
   "outputs": [],
   "source": [
    "len(train_data_custom), len(test_data_custom)"
   ]
  },
  {
   "cell_type": "code",
   "execution_count": 102,
   "metadata": {
    "id": "gTqqdu9ELOuI",
    "outputId": "81ffed1e-f000-4b5d-eb61-bc2c840846ac"
   },
   "outputs": [],
   "source": [
    "train_data_custom.classes"
   ]
  },
  {
   "cell_type": "code",
   "execution_count": 103,
   "metadata": {
    "id": "JJ56B8quLOuI",
    "outputId": "f1957c73-cc92-455c-f8ee-d9e480f5f8bf"
   },
   "outputs": [],
   "source": [
    "train_data_custom.class_to_idx"
   ]
  },
  {
   "cell_type": "markdown",
   "metadata": {
    "id": "dqSxGZbILOuI"
   },
   "source": [
    "`len(test_data_custom) == len(test_data)` and `len(test_data_custom) == len(test_data)` Yes!!!\n",
    "\n",
    "It looks like it worked.\n",
    "\n",
    "We could check for equality with the `Dataset`'s made by the `torchvision.datasets.ImageFolder()` class too. "
   ]
  },
  {
   "cell_type": "code",
   "execution_count": 104,
   "metadata": {
    "id": "NOXlK3LyLOuI",
    "outputId": "d8c3f4cf-1c18-439d-ec4c-41a8e3db47e1"
   },
   "outputs": [],
   "source": [
    "# Check for equality amongst our custom Dataset and ImageFolder Dataset\n",
    "print((len(train_data_custom) == len(train_data)) & (len(test_data_custom) == len(test_data)))\n",
    "print(train_data_custom.classes == train_data.classes)\n",
    "print(train_data_custom.class_to_idx == train_data.class_to_idx)"
   ]
  },
  {
   "cell_type": "markdown",
   "metadata": {
    "id": "KFbWqD_ILOuI"
   },
   "source": [
    "Ho ho!\n",
    "\n",
    "Look at us go!\n",
    "\n",
    "Three `True`'s!\n",
    "\n",
    "You can't get much better than that.\n",
    "\n",
    "How about we take it up a notch and plot some random images to test our `__getitem__` override? "
   ]
  },
  {
   "cell_type": "markdown",
   "metadata": {
    "id": "K_XqGJQrLOuI"
   },
   "source": [
    "### 5.3 Create a function to display random images\n",
    "\n",
    "You know what time it is!\n",
    "\n",
    "Time to put on our data explorer's hat and *visualize, visualize, visualize!*\n",
    "\n",
    "Let's create a helper function called `display_random_images()` that helps us visualize images in our `Dataset'`s.\n",
    "\n",
    "Specifically, it'll:\n",
    "1. Take in a `Dataset` and a number of other parameters such as `classes` (the names of our target classes), the number of images to display (`n`) and a random seed. \n",
    "2. To prevent the display getting out of hand, we'll cap `n` at 10 images.\n",
    "3. Set the random seed for reproducible plots (if `seed` is set). \n",
    "4. Get a list of random sample indexes (we can use Python's `random.sample()` for this) to plot.\n",
    "5. Setup a `matplotlib` plot.\n",
    "6. Loop through the random sample indexes found in step 4 and plot them with `matplotlib`.\n",
    "7. Make sure the sample images are of shape `HWC` (height, width, color channels) so we can plot them."
   ]
  },
  {
   "cell_type": "code",
   "execution_count": 105,
   "metadata": {
    "id": "2jKNsBaPLOuI"
   },
   "outputs": [],
   "source": [
    "# 1. Take in a Dataset as well as a list of class names\n",
    "def display_random_images(dataset: torch.utils.data.dataset.Dataset,\n",
    "                          classes: List[str] = None,\n",
    "                          n: int = 10,\n",
    "                          display_shape: bool = True,\n",
    "                          seed: int = None):\n",
    "    \n",
    "    # 2. Adjust display if n too high\n",
    "    if n > 10:\n",
    "        n = 10\n",
    "        display_shape = False\n",
    "        print(f\"For display purposes, n shouldn't be larger than 10, setting to 10 and removing shape display.\")\n",
    "    \n",
    "    # 3. Set random seed\n",
    "    if seed:\n",
    "        random.seed(seed)\n",
    "\n",
    "    # 4. Get random sample indexes\n",
    "    random_samples_idx = random.sample(range(len(dataset)), k=n)\n",
    "\n",
    "    # 5. Setup plot\n",
    "    plt.figure(figsize=(16, 8))\n",
    "\n",
    "    # 6. Loop through samples and display random samples \n",
    "    for i, targ_sample in enumerate(random_samples_idx):\n",
    "        targ_image, targ_label = dataset[targ_sample][0], dataset[targ_sample][1]\n",
    "\n",
    "        # 7. Adjust image tensor shape for plotting: [color_channels, height, width] -> [color_channels, height, width]\n",
    "        targ_image_adjust = targ_image.permute(1, 2, 0)\n",
    "\n",
    "        # Plot adjusted samples\n",
    "        plt.subplot(1, n, i+1)\n",
    "        plt.imshow(targ_image_adjust)\n",
    "        plt.axis(\"off\")\n",
    "        if classes:\n",
    "            title = f\"class: {classes[targ_label]}\"\n",
    "            if display_shape:\n",
    "                title = title + f\"\\nshape: {targ_image_adjust.shape}\"\n",
    "        plt.title(title)"
   ]
  },
  {
   "cell_type": "markdown",
   "metadata": {
    "id": "4NKco7biLOuI"
   },
   "source": [
    "What a good looking function!\n",
    "\n",
    "Let's test it out first with the `Dataset` we created with `torchvision.datasets.ImageFolder()`."
   ]
  },
  {
   "cell_type": "code",
   "execution_count": 106,
   "metadata": {
    "id": "DlPuedMJLOuI",
    "outputId": "e9455d10-0939-4347-a927-c4b9d592769c"
   },
   "outputs": [],
   "source": [
    "# Display random images from ImageFolder created Dataset\n",
    "display_random_images(train_data, \n",
    "                      n=5, \n",
    "                      classes=class_names,\n",
    "                      seed=None)"
   ]
  },
  {
   "cell_type": "markdown",
   "metadata": {
    "id": "hGhPaT0ALOuI"
   },
   "source": [
    "And now with the `Dataset` we created with our own `ImageFolderCustom`."
   ]
  },
  {
   "cell_type": "code",
   "execution_count": 107,
   "metadata": {
    "id": "RB4lSt2kLOuI",
    "outputId": "202e5244-14e3-45c9-b503-ec6efde62e75"
   },
   "outputs": [],
   "source": [
    "# Display random images from ImageFolderCustom Dataset\n",
    "display_random_images(train_data_custom, \n",
    "                      n=12, \n",
    "                      classes=class_names,\n",
    "                      seed=None) # Try setting the seed for reproducible images"
   ]
  },
  {
   "cell_type": "markdown",
   "metadata": {
    "id": "sCWyCxZ-LOuI"
   },
   "source": [
    "Nice!!!\n",
    "\n",
    "Looks like our `ImageFolderCustom` is working just as we'd like it to."
   ]
  },
  {
   "cell_type": "markdown",
   "metadata": {
    "id": "Xb4LNAuFLOuI"
   },
   "source": [
    "### 5.4 Turn custom loaded images into `DataLoader`'s \n",
    "\n",
    "We've got a way to turn our raw images into `Dataset`'s (features mapped to labels or `X`'s mapped to `y`'s) through our `ImageFolderCustom` class.\n",
    "\n",
    "Now how could we turn our custom `Dataset`'s into `DataLoader`'s?\n",
    "\n",
    "If you guessed by using `torch.utils.data.DataLoader()`, you'd be right!\n",
    "\n",
    "Because our custom `Dataset`'s subclass `torch.utils.data.Dataset`, we can use them directly with `torch.utils.data.DataLoader()`.\n",
    "\n",
    "And we can do using very similar steps to before except this time we'll be using our custom created `Dataset`'s."
   ]
  },
  {
   "cell_type": "code",
   "execution_count": 118,
   "metadata": {
    "id": "xZIOSWavLOuI",
    "outputId": "3cf4bfb9-bd50-405a-e63d-a8267a4615b7"
   },
   "outputs": [],
   "source": [
    "# Turn train and test custom Dataset's into DataLoader's\n",
    "from torch.utils.data import DataLoader\n",
    "train_dataloader_custom = DataLoader(dataset=train_data_custom, # use custom created train Dataset\n",
    "                                     batch_size=1, # how many samples per batch?\n",
    "                                     num_workers=0, # how many subprocesses to use for data loading? (higher = more)\n",
    "                                     shuffle=True) # shuffle the data?"
   ]
  },
  {
   "cell_type": "markdown",
   "metadata": {},
   "source": [
    "#### Ex 1 Use test_data_custom to create the test data loader with shuffle=False"
   ]
  },
  {
   "cell_type": "code",
   "execution_count": 119,
   "metadata": {
    "id": "xZIOSWavLOuI",
    "outputId": "3cf4bfb9-bd50-405a-e63d-a8267a4615b7"
   },
   "outputs": [
    {
     "data": {
      "text/plain": [
       "(<torch.utils.data.dataloader.DataLoader at 0x266aedb5910>,\n",
       " <torch.utils.data.dataloader.DataLoader at 0x266aed26bb0>)"
      ]
     },
     "execution_count": 119,
     "metadata": {},
     "output_type": "execute_result"
    }
   ],
   "source": [
    "\n",
    "test_dataloader_custom = DataLoader(dataset=test_data_custom, # use custom created test Dataset\n",
    "                                    batch_size=1, \n",
    "                                    num_workers=0, \n",
    "                                    shuffle=False) # don't usually need to shuffle testing data\n",
    "\n",
    "train_dataloader_custom, test_dataloader_custom"
   ]
  },
  {
   "cell_type": "markdown",
   "metadata": {
    "id": "_FgwjGleLOuJ"
   },
   "source": [
    "Do the shapes of the samples look the same?"
   ]
  },
  {
   "cell_type": "code",
   "execution_count": null,
   "metadata": {
    "id": "aW0uBfCCLOuJ",
    "outputId": "570d688c-0abd-431e-9aff-ab2326582bc3"
   },
   "outputs": [],
   "source": [
    "# Get image and label from custom DataLoader\n",
    "img_custom, label_custom = next(iter(train_dataloader_custom))\n",
    "\n",
    "# Batch size will now be 1, try changing the batch_size parameter above and see what happens\n",
    "print(f\"Image shape: {img_custom.shape} -> [batch_size, color_channels, height, width]\")\n",
    "print(f\"Label shape: {label_custom.shape}\")"
   ]
  },
  {
   "cell_type": "markdown",
   "metadata": {
    "id": "6yX6mXHqLOuJ"
   },
   "source": [
    "They sure do!\n",
    "\n",
    "Let's now take a lot at some other forms of data transforms."
   ]
  },
  {
   "cell_type": "markdown",
   "metadata": {
    "id": "lMa_uOOeLOuJ"
   },
   "source": [
    "## 6. Other forms of transforms (data augmentation)\n",
    "\n",
    "We've seen a couple of transforms on our data already but there's plenty more.\n",
    "\n",
    "You can see them all in the [`torchvision.transforms` documentation](https://pytorch.org/vision/stable/transforms.html).\n",
    "\n",
    "The purpose of tranforms is to alter your images in some way.\n",
    "\n",
    "That may be turning your images into a tensor (as we've seen before).\n",
    "\n",
    "Or cropping it or randomly erasing a portion or randomly rotating them.\n",
    "\n",
    "Doing this kinds of transforms is often referred to as **data augmentation**.\n",
    "\n",
    "**Data augmentation** is the process of altering your data in such a way that you *artificially* increase the diversity of your training set.\n",
    "\n",
    "Training a model on this *artificially* altered dataset hopefully results in a model that is capable of better *generalization* (the patterns it learns are more robust to future unseen examples).\n",
    "\n",
    "You can see many different examples of data augmentation performed on images using `torchvision.transforms` in PyTorch's [Illustration of Transforms example](https://pytorch.org/vision/stable/auto_examples/plot_transforms.html#illustration-of-transforms).\n",
    "\n",
    "But let's try one out ourselves.\n",
    "\n",
    "Machine learning is all about harnessing the power of randomness and research shows that random transforms (like [`transforms.RandAugment()`](https://pytorch.org/vision/stable/auto_examples/plot_transforms.html#randaugment) and [`transforms.TrivialAugmentWide()`](https://pytorch.org/vision/stable/auto_examples/plot_transforms.html#trivialaugmentwide)) generally perform better than hand-picked transforms.\n",
    "\n",
    "The idea behind [TrivialAugment](https://arxiv.org/abs/2103.10158) is... well, trivial. \n",
    "\n",
    "You have a set of transforms and you randomly pick a number of them to perform on an image and at a random magnitude between a given range (a higher magnitude means more instense).\n",
    "\n",
    "The PyTorch team even [used TrivialAugment it to train their latest state-of-the-art vision models](https://pytorch.org/blog/how-to-train-state-of-the-art-models-using-torchvision-latest-primitives/#break-down-of-key-accuracy-improvements).\n",
    "\n",
    "![trivial augment data augmentation being used for PyTorch state of the art training](https://raw.githubusercontent.com/mrdbourke/pytorch-deep-learning/main/images/04-trivial-augment-being-using-in-PyTorch-resize.png)\n",
    "\n",
    "*TrivialAugment was one of the ingredients used in a recent state of the art training upgrade to various PyTorch vision models.*\n",
    "\n",
    "How about we test it out on some of our own images?\n",
    "\n",
    "The main parameter to pay attention to in `transforms.TrivialAugmentWide()` is `num_magnitude_bins=31`.\n",
    "\n",
    "It defines how much of a range an intensity value will be picked to apply a certain transform, `0` being no range and `31` being maximum range (highest chance for highest intensity). \n",
    "\n",
    "We can incorporate `transforms.TrivialAugmentWide()` into `transforms.Compose()`."
   ]
  },
  {
   "cell_type": "code",
   "execution_count": null,
   "metadata": {
    "id": "W_qwT-zALOuJ"
   },
   "outputs": [],
   "source": [
    "from torchvision import transforms\n",
    "\n",
    "train_transforms = transforms.Compose([\n",
    "    transforms.Resize((224, 224)),\n",
    "    transforms.TrivialAugmentWide(num_magnitude_bins=31), # how intense \n",
    "    transforms.ToTensor() # use ToTensor() last to get everything between 0 & 1\n",
    "])"
   ]
  },
  {
   "cell_type": "markdown",
   "metadata": {
    "id": "W_qwT-zALOuJ"
   },
   "source": [
    "### Ex 2 Create the test augmentation. Don't need to perform augmentation on the test data just the resize and ToTensor()"
   ]
  },
  {
   "cell_type": "code",
   "execution_count": 122,
   "metadata": {
    "id": "W_qwT-zALOuJ"
   },
   "outputs": [],
   "source": [
    "test_transforms = transforms.Compose([\n",
    "    transforms.Resize((64, 64)),\n",
    "    transforms.ToTensor()\n",
    "])\n"
   ]
  },
  {
   "cell_type": "markdown",
   "metadata": {
    "id": "Ru7F6DsELOuJ"
   },
   "source": [
    "> **Note:** You usually don't perform data augmentation on the test set. The idea of data augmentation is to to *artificially* increase the diversity of the training set to better predict on the testing set. \n",
    ">\n",
    "> However, you do need to make sure your test set images are transformed to tensors. We size the test images to the same size as our training images too, however, inference can be done on different size images if necessary (though this may alter performance).\n",
    "\n",
    "Beautiful, now we've got a training transform (with data augmentation) and test transform (without data augmentation).\n",
    "\n",
    "Let's test our data augmentation out!"
   ]
  },
  {
   "cell_type": "code",
   "execution_count": null,
   "metadata": {
    "id": "I1VoFaxKLOuJ",
    "outputId": "202e8e24-fb82-4b85-fd92-5c615a768a37"
   },
   "outputs": [],
   "source": [
    "# Get all image paths\n",
    "image_path_list = list(image_path.glob(\"*/*/*.jpg\"))\n",
    "\n",
    "# Plot random images\n",
    "plot_transformed_images(\n",
    "    image_paths=image_path_list,\n",
    "    transform=train_transforms,\n",
    "    n=3,\n",
    "    seed=None\n",
    ")"
   ]
  },
  {
   "cell_type": "markdown",
   "metadata": {
    "id": "G7WQ4Qa9LOuJ"
   },
   "source": [
    "Try running the cell above a few times and seeing how the original image changes as it goes through the transform."
   ]
  },
  {
   "cell_type": "markdown",
   "metadata": {
    "id": "cei7ARGwLOuJ"
   },
   "source": [
    "## 7. Model 0: TinyVGG without data augmentation\n",
    "\n",
    "Alright, we've seen how to turn our data from images in folders to transformed tensors.\n",
    "\n",
    "Now let's construct a computer vision model to see if we can classify if an image is of pizza, steak or sushi.\n",
    "\n",
    "To begin, we'll start with a simple transform, only resizing the images to `(64, 64)` and turning them into tensors."
   ]
  },
  {
   "cell_type": "markdown",
   "metadata": {
    "id": "0yXWdqAgLOuJ"
   },
   "source": [
    "### 7.1 Creating transforms and loading data for Model 0"
   ]
  },
  {
   "cell_type": "code",
   "execution_count": null,
   "metadata": {
    "id": "e_lNb_-eLOuJ"
   },
   "outputs": [],
   "source": [
    "# Create simple transform\n",
    "simple_transform = transforms.Compose([ \n",
    "    transforms.Resize((64, 64)),\n",
    "    transforms.ToTensor(),\n",
    "])"
   ]
  },
  {
   "cell_type": "markdown",
   "metadata": {
    "id": "1AWOQfleLOuJ"
   },
   "source": [
    "Excellent, now we've got a simple transform, let's:\n",
    "1. Load the data, turning each of our training and test folders first into a `Dataset` with `torchvision.datasets.ImageFolder()` \n",
    "2. Then into a `DataLoader` using `torch.utils.data.DataLoader()`.\n",
    "    * We'll set the `batch_size=32` and `num_workers` to as many CPUs on our machine (this will depend on what machine you're using)."
   ]
  },
  {
   "cell_type": "code",
   "execution_count": null,
   "metadata": {
    "id": "dO_Vz73LLOuJ",
    "outputId": "0337d3f4-6c1c-425d-8038-1e95aa17f6ce"
   },
   "outputs": [],
   "source": [
    "# 1. Load and transform data\n",
    "from torchvision import datasets\n",
    "train_data_simple = datasets.ImageFolder(root=train_dir, transform=simple_transform)\n",
    "test_data_simple = datasets.ImageFolder(root=test_dir, transform=simple_transform)\n",
    "\n",
    "# 2. Turn data into DataLoaders\n",
    "import os\n",
    "from torch.utils.data import DataLoader\n",
    "\n",
    "# Setup batch size and number of workers \n",
    "BATCH_SIZE = 32\n",
    "NUM_WORKERS = os.cpu_count()\n",
    "print(f\"Creating DataLoader's with batch size {BATCH_SIZE} and {NUM_WORKERS} workers.\")\n",
    "\n",
    "# Create DataLoader's\n",
    "train_dataloader_simple = DataLoader(train_data_simple, \n",
    "                                     batch_size=BATCH_SIZE, \n",
    "                                     shuffle=True, \n",
    "                                     num_workers=NUM_WORKERS)\n",
    "\n",
    "test_dataloader_simple = DataLoader(test_data_simple, \n",
    "                                    batch_size=BATCH_SIZE, \n",
    "                                    shuffle=False, \n",
    "                                    num_workers=NUM_WORKERS)\n",
    "\n",
    "train_dataloader_simple, test_dataloader_simple"
   ]
  },
  {
   "cell_type": "markdown",
   "metadata": {
    "id": "MKRYUlAWLOuK"
   },
   "source": [
    "`DataLoader`'s created! \n",
    "\n",
    "Let's build a model."
   ]
  },
  {
   "cell_type": "markdown",
   "metadata": {
    "id": "geyeSmKGLOuK"
   },
   "source": [
    "### 7.2 Create TinyVGG model class\n",
    "\n",
    "In [notebook 03](https://www.learnpytorch.io/03_pytorch_computer_vision/#7-model-2-building-a-convolutional-neural-network-cnn), we used the TinyVGG model from the [CNN Explainer website](https://poloclub.github.io/cnn-explainer/).\n",
    "\n",
    "Let's recreate the same model, except this time we'll be using color images instead of grayscale (`in_channels=3` instead of `in_channels=1` for RGB pixels). "
   ]
  },
  {
   "cell_type": "code",
   "execution_count": null,
   "metadata": {
    "id": "xEltJABILOuK",
    "outputId": "1d261231-c6d9-4e05-b203-0859ad46c7f0"
   },
   "outputs": [],
   "source": [
    "class TinyVGG(nn.Module):\n",
    "    \"\"\"\n",
    "    Model architecture copying TinyVGG from: \n",
    "    https://poloclub.github.io/cnn-explainer/\n",
    "    \"\"\"\n",
    "    def __init__(self, input_shape: int, hidden_units: int, output_shape: int) -> None:\n",
    "        super().__init__()\n",
    "        self.conv_block_1 = nn.Sequential(\n",
    "            nn.Conv2d(in_channels=input_shape, \n",
    "                      out_channels=hidden_units, \n",
    "                      kernel_size=3, # how big is the square that's going over the image?\n",
    "                      stride=1, # default\n",
    "                      padding=1), # options = \"valid\" (no padding) or \"same\" (output has same shape as input) or int for specific number \n",
    "            nn.ReLU(),\n",
    "            nn.Conv2d(in_channels=hidden_units, \n",
    "                      out_channels=hidden_units,\n",
    "                      kernel_size=3,\n",
    "                      stride=1,\n",
    "                      padding=1),\n",
    "            nn.ReLU(),\n",
    "            nn.MaxPool2d(kernel_size=2,\n",
    "                         stride=2) # default stride value is same as kernel_size\n",
    "        )\n",
    "        self.conv_block_2 = nn.Sequential(\n",
    "            nn.Conv2d(hidden_units, hidden_units, kernel_size=3, padding=1),\n",
    "            nn.ReLU(),\n",
    "            nn.Conv2d(hidden_units, hidden_units, kernel_size=3, padding=1),\n",
    "            nn.ReLU(),\n",
    "            nn.MaxPool2d(2)\n",
    "        )\n",
    "        self.classifier = nn.Sequential(\n",
    "            nn.Flatten(),\n",
    "            # Where did this in_features shape come from? \n",
    "            # It's because each layer of our network compresses and changes the shape of our inputs data.\n",
    "            nn.Linear(in_features=hidden_units*16*16,\n",
    "                      out_features=output_shape)\n",
    "        )\n",
    "    \n",
    "    def forward(self, x: torch.Tensor):\n",
    "        x = self.conv_block_1(x)\n",
    "        # print(x.shape)\n",
    "        x = self.conv_block_2(x)\n",
    "        # print(x.shape)\n",
    "        x = self.classifier(x)\n",
    "        # print(x.shape)\n",
    "        return x\n",
    "        # return self.classifier(self.conv_block_2(self.conv_block_1(x))) # <- leverage the benefits of operator fusion\n",
    "\n",
    "torch.manual_seed(42)\n",
    "model_0 = TinyVGG(input_shape=3, # number of color channels (3 for RGB) \n",
    "                  hidden_units=10, \n",
    "                  output_shape=len(train_data.classes)).to(device)\n",
    "model_0"
   ]
  },
  {
   "cell_type": "markdown",
   "metadata": {
    "id": "i6SJSACBLOuK"
   },
   "source": [
    "> **Note:** One of the ways to speed up deep learning models computing on a GPU is to leverage **operator fusion**.\n",
    ">\n",
    "> This means in the `forward()` method in our model above, instead of calling a layer block and reassigning `x` every time, we call each block in succession (see the final line of the `forward()` method in the model above for an example).\n",
    ">\n",
    "> This saves the time spent reassigning `x` (memory heavy) and focuses on only computing on `x`.\n",
    "> \n",
    "> See [*Making Deep Learning Go Brrrr From First Principles*](https://horace.io/brrr_intro.html) by Horace He for more ways on how to speed up machine learning models.\n",
    "\n",
    "Now that's a nice looking model!\n",
    "\n",
    "How about we test it out with a forward pass on a single image?\n",
    "\n"
   ]
  },
  {
   "cell_type": "markdown",
   "metadata": {
    "id": "5JW0Wxw6LOuK"
   },
   "source": [
    "### 7.3 Try a forward pass on a single image (to test the model)\n",
    "\n",
    "A good way to test a model is to do a forward pass on a single piece of data.\n",
    "\n",
    "It's also handy way to test the input and output shapes of our different layers.\n",
    "\n",
    "To do a forward pass on a single image, let's:\n",
    "1. Get a batch of images and labels from the `DataLoader`.\n",
    "2. Get a single image from the batch and `unsqueeze()` the image so it has a batch size of `1` (so its shape fits the model).\n",
    "3. Perform inference on a single image (making sure to send the image to the target `device`).\n",
    "4. Print out what's happening and convert the model's raw output logits to prediction probabilities with `torch.softmax()` (since we're working with multi-class data) and convert the prediction probabilities to prediction labels with `torch.argmax()`."
   ]
  },
  {
   "cell_type": "code",
   "execution_count": null,
   "metadata": {
    "id": "C4TWmPQ5LOuK",
    "outputId": "2b1ce41a-29c1-4016-804c-d7d87b27854f"
   },
   "outputs": [],
   "source": [
    "# 1. Get a batch of images and labels from the DataLoader\n",
    "img_batch, label_batch = next(iter(train_dataloader_simple))\n",
    "\n",
    "# 2. Get a single image from the batch and unsqueeze the image so its shape fits the model\n",
    "img_single, label_single = img_batch[0].unsqueeze(dim=0), label_batch[0]\n",
    "print(f\"Single image shape: {img_single.shape}\\n\")\n",
    "\n",
    "# 3. Perform a forward pass on a single image\n",
    "model_0.eval()\n",
    "with torch.inference_mode():\n",
    "    pred = model_0(img_single.to(device))\n",
    "    \n",
    "# 4. Print out what's happening and convert model logits -> pred probs -> pred label\n",
    "print(f\"Output logits:\\n{pred}\\n\")\n",
    "print(f\"Output prediction probabilities:\\n{torch.softmax(pred, dim=1)}\\n\")\n",
    "print(f\"Output prediction label:\\n{torch.argmax(torch.softmax(pred, dim=1), dim=1)}\\n\")\n",
    "print(f\"Actual label:\\n{label_single}\")"
   ]
  },
  {
   "cell_type": "markdown",
   "metadata": {
    "id": "_ZoJk5bsLOuK"
   },
   "source": [
    "Wonderful, it looks like our model is outputting what we'd expect it to output.\n",
    "\n",
    "You can run the cell above a few times and each time have a different image be predicted on.\n",
    "\n",
    "And you'll probably notice the predictions are often wrong.\n",
    "\n",
    "This is to be expected because the model hasn't been trained yet and it's essentially guessing using random weights."
   ]
  },
  {
   "cell_type": "markdown",
   "metadata": {
    "id": "B-f_LT5mLOuK",
    "tags": []
   },
   "source": [
    "### 7.4 Use `torchinfo` to get an idea of the shapes going through our model\n",
    "\n",
    "Printing out our model with `print(model)` gives us an idea of what's going on with our model.\n",
    "\n",
    "And we can print out the shapes of our data throughout the `forward()` method.\n",
    "\n",
    "However, a helpful way to get information from our model is to use [`torchinfo`](https://github.com/TylerYep/torchinfo).\n",
    "\n",
    "`torchinfo` comes with a `summary()` method that takes a PyTorch model as well as an `input_shape` and returns what happens as a tensor moves through your model.\n",
    "\n",
    "> **Note:** If you're using Google Colab, you'll need to install `torchinfo`."
   ]
  },
  {
   "cell_type": "code",
   "execution_count": null,
   "metadata": {
    "id": "qnB0M1sqLOuK",
    "outputId": "44cd271e-c666-4824-f0d8-69b6a498d729"
   },
   "outputs": [],
   "source": [
    "# Install torchinfo if it's not available, import it if it is\n",
    "try: \n",
    "    import torchinfo\n",
    "except:\n",
    "    !pip install torchinfo\n",
    "    import torchinfo\n",
    "    \n",
    "from torchinfo import summary\n",
    "summary(model_0, input_size=[1, 3, 64, 64]) # do a test pass through of an example input size "
   ]
  },
  {
   "cell_type": "markdown",
   "metadata": {
    "id": "BtM7SfkPLOuK"
   },
   "source": [
    "Nice! \n",
    "\n",
    "The output of `torchinfo.summary()` gives us a whole bunch of information about our model.\n",
    "\n",
    "Such as `Total params`, the total number of parameters in our model, the `Estimated Total Size (MB)` which is the size of our model.\n",
    "\n",
    "You can also see the change in input and output shapes as data of a certain `input_size` moves through our model.\n",
    "\n",
    "Right now, our parameter numbers and total model size is low. \n",
    "\n",
    "This because we're starting with a small model.\n",
    "\n",
    "And if we need to increase its size later, we can."
   ]
  },
  {
   "cell_type": "markdown",
   "metadata": {
    "id": "yvFo-qfbLOuK"
   },
   "source": [
    "### 7.5 Create train & test loop functions \n",
    "\n",
    "We've got data and we've got a model.\n",
    "\n",
    "Now let's make some training and test loop functions to train our model on the training data and evaluate our model on the testing data.\n",
    "\n",
    "And to make sure we can use these the training and testing loops again, we'll functionize them.\n",
    "\n",
    "Specifically, we're going to make three functions:\n",
    "1. `train_step()` - takes in a model, a `DataLoader`, a loss function and an optimizer and trains the model on the `DataLoader`.\n",
    "2. `test_step()` - takes in a model, a `DataLoader` and a loss function and evaluates the model on the `DataLoader`.\n",
    "3. `train()` - performs 1. and 2. together for a given number of epochs and returns a results dictionary.\n",
    "\n",
    "Let's start by building `train_step()`.\n",
    "\n",
    "Because we're dealing with batches in the `DataLoader`'s, we'll accumulate the model loss and accuracy values during training (by adding them up for each batch) and then adjust them at the end before we return them."
   ]
  },
  {
   "cell_type": "markdown",
   "metadata": {},
   "source": [
    "### Ex 3: Fix the bug in the train step "
   ]
  },
  {
   "cell_type": "code",
   "execution_count": 124,
   "metadata": {
    "id": "UY5pAdcDLOuK"
   },
   "outputs": [],
   "source": [
    "def train_step(model: torch.nn.Module, \n",
    "               dataloader: torch.utils.data.DataLoader, \n",
    "               loss_fn: torch.nn.Module, \n",
    "               optimizer: torch.optim.Optimizer):\n",
    "    # Put model in train mode\n",
    "    model.train()\n",
    "    \n",
    "    # Setup train loss and train accuracy values\n",
    "    train_loss, train_acc = 0, 0\n",
    "    \n",
    "    # Loop through data loader data batches\n",
    "    for batch, (X, y) in enumerate(dataloader):\n",
    "        # Send data to target device\n",
    "        X, y = X.to(device), y.to(device)\n",
    "\n",
    "        # 1. Forward pass\n",
    "        y_pred = model(X)\n",
    "\n",
    "        # 2. Calculate  and accumulate loss\n",
    "        loss = loss_fn(y_pred, y)\n",
    "        train_loss += loss.item() \n",
    "\n",
    "        # 3. Optimizer zero grad\n",
    "        optimizer.zero_grad()\n",
    "\n",
    "        # 4. Loss backward\n",
    "        loss.backward()\n",
    "\n",
    "        # 5. Optimizer step\n",
    "        optimizer.step()\n",
    "\n",
    "        # Calculate and accumulate accuracy metric across all batches\n",
    "        y_pred_class = torch.argmax(torch.softmax(y_pred, dim=1), dim=1)\n",
    "        train_acc += (y_pred_class == y).sum().item()/len(y_pred)\n",
    "\n",
    "    # Adjust metrics to get average loss and accuracy per batch \n",
    "    train_loss = train_loss / len(dataloader)\n",
    "    train_acc = train_acc / len(dataloader)\n",
    "    return train_loss, train_acc"
   ]
  },
  {
   "cell_type": "markdown",
   "metadata": {
    "id": "ItrQIGweLOuL"
   },
   "source": [
    "Woohoo! `train_step()` function done.\n",
    "\n",
    "Now let's do the same for the `test_step()` function.\n",
    "\n",
    "The main difference here will be the `test_step()` won't take in an optimizer and therefore won't perform gradient descent.\n",
    "\n",
    "But since we'll be doing inference, we'll make sure to turn on the `torch.inference_mode()` context manager for making predictions."
   ]
  },
  {
   "cell_type": "code",
   "execution_count": null,
   "metadata": {
    "id": "M9O2PCQgLOuL"
   },
   "outputs": [],
   "source": [
    "def test_step(model: torch.nn.Module, \n",
    "              dataloader: torch.utils.data.DataLoader, \n",
    "              loss_fn: torch.nn.Module):\n",
    "    # Put model in eval mode\n",
    "    model.eval() \n",
    "    \n",
    "    # Setup test loss and test accuracy values\n",
    "    test_loss, test_acc = 0, 0\n",
    "    \n",
    "    # Turn on inference context manager\n",
    "    with torch.inference_mode():\n",
    "        # Loop through DataLoader batches\n",
    "        for batch, (X, y) in enumerate(dataloader):\n",
    "            # Send data to target device\n",
    "            X, y = X.to(device), y.to(device)\n",
    "    \n",
    "            # 1. Forward pass\n",
    "            test_pred_logits = model(X)\n",
    "\n",
    "            # 2. Calculate and accumulate loss\n",
    "            loss = loss_fn(test_pred_logits, y)\n",
    "            test_loss += loss.item()\n",
    "            \n",
    "            # Calculate and accumulate accuracy\n",
    "            test_pred_labels = test_pred_logits.argmax(dim=1)\n",
    "            test_acc += ((test_pred_labels == y).sum().item()/len(test_pred_labels))\n",
    "            \n",
    "    # Adjust metrics to get average loss and accuracy per batch \n",
    "    test_loss = test_loss / len(dataloader)\n",
    "    test_acc = test_acc / len(dataloader)\n",
    "    return test_loss, test_acc"
   ]
  },
  {
   "cell_type": "markdown",
   "metadata": {
    "id": "O9gMgaHpLOuL"
   },
   "source": [
    "Excellent!"
   ]
  },
  {
   "cell_type": "markdown",
   "metadata": {
    "id": "_cxrPrqrLOuL"
   },
   "source": [
    "\n",
    "\n",
    "### 7.6 Creating a `train()` function to combine `train_step()` and `test_step()`\n",
    "\n",
    "Now we need a way to put our `train_step()` and `test_step()` functions together.\n",
    "\n",
    "To do so, we'll package them up in a `train()` function.\n",
    "\n",
    "This function will train the model as well as evaluate it.\n",
    "\n",
    "Specificially, it'll:\n",
    "1. Take in a model, a `DataLoader` for training and test sets, an optimizer, a loss function and how many epochs to perform each train and test step for.\n",
    "2. Create an empty results dictionary for `train_loss`, `train_acc`, `test_loss` and `test_acc` values (we can fill this up as training goes on).\n",
    "3. Loop through the training and test step functions for a number of epochs.\n",
    "4. Print out what's happening at the end of each epoch.\n",
    "5. Update the empty results dictionary with the updated metrics each epoch.\n",
    "6. Return the filled\n",
    "\n",
    "To keep track of the number of epochs we've been through, let's import `tqdm` from `tqdm.auto` ([`tqdm`](https://github.com/tqdm/tqdm) is one of the most popular progress bar libraries for Python and `tqdm.auto` automatically decides what kind of progress bar is best for your computing environment, e.g. Jupyter Notebook vs. Python script)."
   ]
  },
  {
   "cell_type": "code",
   "execution_count": null,
   "metadata": {},
   "outputs": [],
   "source": []
  },
  {
   "cell_type": "code",
   "execution_count": null,
   "metadata": {
    "id": "LitcZAlWLOuL"
   },
   "outputs": [],
   "source": [
    "from tqdm.auto import tqdm\n",
    "\n",
    "# 1. Take in various parameters required for training and test steps\n",
    "def train(model: torch.nn.Module, \n",
    "          train_dataloader: torch.utils.data.DataLoader, \n",
    "          test_dataloader: torch.utils.data.DataLoader, \n",
    "          optimizer: torch.optim.Optimizer,\n",
    "          loss_fn: torch.nn.Module = nn.CrossEntropyLoss(),\n",
    "          epochs: int = 5):\n",
    "    \n",
    "    # 2. Create empty results dictionary\n",
    "    results = {\"train_loss\": [],\n",
    "        \"train_acc\": [],\n",
    "        \"test_loss\": [],\n",
    "        \"test_acc\": []\n",
    "    }\n",
    "    \n",
    "    # 3. Loop through training and testing steps for a number of epochs\n",
    "    for epoch in tqdm(range(epochs)):\n",
    "        train_loss, train_acc = train_step(model=model,\n",
    "                                           dataloader=train_dataloader,\n",
    "                                           loss_fn=loss_fn,\n",
    "                                           optimizer=optimizer)\n",
    "        test_loss, test_acc = test_step(model=model,\n",
    "            dataloader=test_dataloader,\n",
    "            loss_fn=loss_fn)\n",
    "        \n",
    "        # 4. Print out what's happening\n",
    "        print(\n",
    "            f\"Epoch: {epoch+1} | \"\n",
    "            f\"train_loss: {train_loss:.4f} | \"\n",
    "            f\"train_acc: {train_acc:.4f} | \"\n",
    "            f\"test_loss: {test_loss:.4f} | \"\n",
    "            f\"test_acc: {test_acc:.4f}\"\n",
    "        )\n",
    "\n",
    "        # 5. Update results dictionary\n",
    "        results[\"train_loss\"].append(train_loss)\n",
    "        results[\"train_acc\"].append(train_acc)\n",
    "        results[\"test_loss\"].append(test_loss)\n",
    "        results[\"test_acc\"].append(test_acc)\n",
    "\n",
    "    # 6. Return the filled results at the end of the epochs\n",
    "    return results"
   ]
  },
  {
   "cell_type": "markdown",
   "metadata": {
    "id": "lFHGKsjrLOuL"
   },
   "source": [
    "### 7.7 Train and Evaluate Model 0\n",
    "\n",
    "Alright, alright, alright we've got all of the ingredients we need to train and evaluate our model.\n",
    "\n",
    "Time to put our `TinyVGG` model, `DataLoader`'s and `train()` function together to see if we can build a model capable of discerning between pizza, steak and sushi!\n",
    "\n",
    "Let's recreate `model_0` (we don't need to but we will for completeness) then call our `train()` function passing in the necessary parameters.\n",
    "\n",
    "To keep our experiments quick, we'll train our model for **5 epochs** (though you could increase this if you want).\n",
    "\n",
    "As for an **optimizer** and **loss function**, we'll use `torch.nn.CrossEntropyLoss()` (since we're working with multi-class classification data) and `torch.optim.Adam()` with a learning rate of `1e-3` respecitvely.\n",
    "\n",
    "To see how long things take, we'll import Python's [`timeit.default_timer()`](https://docs.python.org/3/library/timeit.html#timeit.default_timer) method to calculate the training time."
   ]
  },
  {
   "cell_type": "code",
   "execution_count": null,
   "metadata": {
    "colab": {
     "referenced_widgets": [
      "b566c3ddf5bc4a8b98a6db06c8825c9d"
     ]
    },
    "id": "SOlo7nSBLOuL",
    "outputId": "8127adc0-8345-4d78-f1a7-1ea74bc9dff1"
   },
   "outputs": [],
   "source": [
    "# Set random seeds\n",
    "torch.manual_seed(42) \n",
    "torch.cuda.manual_seed(42)\n",
    "\n",
    "# Set number of epochs\n",
    "NUM_EPOCHS = 5\n",
    "\n",
    "# Recreate an instance of TinyVGG\n",
    "model_0 = TinyVGG(input_shape=3, # number of color channels (3 for RGB) \n",
    "                  hidden_units=10, \n",
    "                  output_shape=len(train_data.classes)).to(device)\n",
    "\n",
    "# Setup loss function and optimizer\n",
    "loss_fn = nn.CrossEntropyLoss()\n",
    "optimizer = torch.optim.Adam(params=model_0.parameters(), lr=0.001)\n",
    "\n",
    "# Start the timer\n",
    "from timeit import default_timer as timer \n",
    "start_time = timer()\n",
    "\n",
    "# Train model_0 \n",
    "model_0_results = train(model=model_0, \n",
    "                        train_dataloader=train_dataloader_simple,\n",
    "                        test_dataloader=test_dataloader_simple,\n",
    "                        optimizer=optimizer,\n",
    "                        loss_fn=loss_fn, \n",
    "                        epochs=NUM_EPOCHS)\n",
    "\n",
    "# End the timer and print out how long it took\n",
    "end_time = timer()\n",
    "print(f\"Total training time: {end_time-start_time:.3f} seconds\")"
   ]
  },
  {
   "cell_type": "markdown",
   "metadata": {
    "id": "Q2wHanL2LOuM"
   },
   "source": [
    "Hmm...\n",
    "\n",
    "It looks like our model performed pretty poorly.\n",
    "\n",
    "But that's okay for now, we'll keep persevering.\n",
    "\n",
    "What are some ways you could potentially improve it?\n",
    "\n",
    "> **Note:** Check out the [*Improving a model (from a model perspective)* section in notebook 02](https://www.learnpytorch.io/02_pytorch_classification/#5-improving-a-model-from-a-model-perspective) for ideas on improving our TinyVGG model."
   ]
  },
  {
   "cell_type": "markdown",
   "metadata": {
    "id": "QQVlXJFELOuM"
   },
   "source": [
    "### 7.8 Plot the loss curves of Model 0\n",
    "\n",
    "From the print outs of our `model_0` training, it didn't look like it did too well.\n",
    "\n",
    "But we can further evaluate it by plotting the model's **loss curves**. \n",
    "\n",
    "**Loss curves** show the model's results over time.\n",
    "\n",
    "And they're a great way to see how your model performs on different datasets (e.g. training and test).\n",
    "\n",
    "Let's create a function to plot the values in our `model_0_results` dictionary."
   ]
  },
  {
   "cell_type": "code",
   "execution_count": null,
   "metadata": {
    "id": "ltzqe2mtLOuM",
    "outputId": "6944de5d-8ce2-4969-8091-9dbdbf1e1beb"
   },
   "outputs": [],
   "source": [
    "# Check the model_0_results keys\n",
    "model_0_results.keys()"
   ]
  },
  {
   "cell_type": "markdown",
   "metadata": {
    "id": "Q9NgPMfdLOuM"
   },
   "source": [
    "We'll need to extract each of these keys and turn them into a plot."
   ]
  },
  {
   "cell_type": "code",
   "execution_count": null,
   "metadata": {
    "id": "nrC_zBkNLOuM"
   },
   "outputs": [],
   "source": [
    "def plot_loss_curves(results: Dict[str, List[float]]):\n",
    "    \"\"\"Plots training curves of a results dictionary.\n",
    "\n",
    "    Args:\n",
    "        results (dict): dictionary containing list of values, e.g.\n",
    "            {\"train_loss\": [...],\n",
    "             \"train_acc\": [...],\n",
    "             \"test_loss\": [...],\n",
    "             \"test_acc\": [...]}\n",
    "    \"\"\"\n",
    "    \n",
    "    # Get the loss values of the results dictionary (training and test)\n",
    "    loss = results['train_loss']\n",
    "    test_loss = results['test_loss']\n",
    "\n",
    "    # Get the accuracy values of the results dictionary (training and test)\n",
    "    accuracy = results['train_acc']\n",
    "    test_accuracy = results['test_acc']\n",
    "\n",
    "    # Figure out how many epochs there were\n",
    "    epochs = range(len(results['train_loss']))\n",
    "\n",
    "    # Setup a plot \n",
    "    plt.figure(figsize=(15, 7))\n",
    "\n",
    "    # Plot loss\n",
    "    plt.subplot(1, 2, 1)\n",
    "    plt.plot(epochs, loss, label='train_loss')\n",
    "    plt.plot(epochs, test_loss, label='test_loss')\n",
    "    plt.title('Loss')\n",
    "    plt.xlabel('Epochs')\n",
    "    plt.legend()\n",
    "\n",
    "    # Plot accuracy\n",
    "    plt.subplot(1, 2, 2)\n",
    "    plt.plot(epochs, accuracy, label='train_accuracy')\n",
    "    plt.plot(epochs, test_accuracy, label='test_accuracy')\n",
    "    plt.title('Accuracy')\n",
    "    plt.xlabel('Epochs')\n",
    "    plt.legend();"
   ]
  },
  {
   "cell_type": "markdown",
   "metadata": {
    "id": "B1vYV9ANLOuM"
   },
   "source": [
    "Okay, let's test our `plot_loss_curves()` function out."
   ]
  },
  {
   "cell_type": "code",
   "execution_count": null,
   "metadata": {
    "id": "gNK7ogLwLOuM",
    "outputId": "a6130b85-0f36-4ef2-a72c-3da008b43e4d"
   },
   "outputs": [],
   "source": [
    "plot_loss_curves(model_0_results)"
   ]
  },
  {
   "cell_type": "markdown",
   "metadata": {
    "id": "t02DlQ1DLOuM"
   },
   "source": [
    "Woah.\n",
    "\n",
    "Looks like things are all over the place...\n",
    "\n",
    "But we kind of knew that because our model's print out results during training didn't show much promise.\n",
    "\n",
    "You could try training the model for longer and see what happens when you plot a loss curve over a longer time horizon."
   ]
  },
  {
   "cell_type": "markdown",
   "metadata": {
    "id": "CoIgv0X_LOuN"
   },
   "source": [
    "## 8. What should an ideal loss curve look like?\n",
    "\n",
    "Looking at training and test loss curves is a great way to see if your model is **overfitting**.\n",
    "\n",
    "An overfitting model is one that performs better (often by a considerable margin) on the training set than the validation/test set.\n",
    "\n",
    "If your training loss is far lower than your test loss, your model is **overfitting**.\n",
    "\n",
    "As in, it's learning the patterns in the training too well and those patterns aren't generalizing to the test data.\n",
    "\n",
    "The other side is when your training and test loss are not as low as you'd like, this is considered **underfitting**.\n",
    "\n",
    "The ideal position for a training and test loss curve is for them to line up closely with each other.\n",
    "\n",
    "<img src=\"https://raw.githubusercontent.com/mrdbourke/pytorch-deep-learning/main/images/04-loss-curves-overfitting-underfitting-ideal.jpg\" alt=\"different training and test loss curves illustrating overfitting, underfitting and the ideal loss curves\" width=\"800\"/>\n",
    "\n",
    "*Left: If your training and test loss curves aren't as low as you'd like, this is considered **underfitting**. *Middle:* When your test/validation loss is higher than your training loss this is considered **overfitting**. *Right:* The ideal scenario is when your training and test loss curves line up over time. This means your model is generalizing well. There are more combinations and different things loss curves can do, for more on these, see Google's [Interpreting Loss Curves guide](https://developers.google.com/machine-learning/testing-debugging/metrics/interpretic).*"
   ]
  },
  {
   "cell_type": "markdown",
   "metadata": {
    "id": "zCRqx7L2LOuN"
   },
   "source": [
    "### 8.1 How to deal with overfitting\n",
    "\n",
    "Since the main problem with overfitting is that you're model is fitting the training data *too well*, you'll want to use techniques to \"reign it in\".\n",
    "\n",
    "A common technique of preventing overfitting is known as [**regularization**](https://ml-cheatsheet.readthedocs.io/en/latest/regularization.html).\n",
    "\n",
    "I like to think of this as \"making our models more regular\", as in, capable of fitting *more* kinds of data.\n",
    "\n",
    "Let's discuss a few methods to prevent overfitting.\n",
    "\n",
    "| **Method to prevent overfitting** | **What is it?** |\n",
    "| ----- | ----- |\n",
    "| **Get more data** | Having more data gives the model more opportunities to learn patterns, patterns which may be more generalizable to new examples. | \n",
    "| **Simplify your model** | If the current model is already overfitting the training data, it may be too complicated of a model. This means it's learning the patterns of the data too well and isn't able to generalize well to unseen data. One way to simplify a model is to reduce the number of layers it uses or to reduce the number of hidden units in each layer. | \n",
    "| **Use data augmentation** | [**Data augmentation**](https://developers.google.com/machine-learning/glossary#data-augmentation) manipulates the training data in a way so that's harder for the model to learn as it artificially adds more variety to the data. If a model is able to learn patterns in augmented data, the model may be able to generalize better to unseen data. |\n",
    "| **Use transfer learning** | [**Transfer learning**](https://developers.google.com/machine-learning/glossary#transfer-learning) involves leveraging the patterns (also called pretrained weights) one model has learned to use as the foundation for your own task. In our case, we could use one computer vision model pretrained on a large variety of images and then tweak it slightly to be more specialized for food images. |\n",
    "| **Use dropout layers** | Dropout layers randomly remove connections between hidden layers in neural networks, effectively simplifying a model but also making the remaining connections better. See [`torch.nn.Dropout()`](https://pytorch.org/docs/stable/generated/torch.nn.Dropout.html) for more. | \n",
    "| **Use learning rate decay** | The idea here is to slowly decrease the learning rate as a model trains. This is akin to reaching for a coin at the back of a couch. The closer you get, the smaller your steps. The same with the learning rate, the closer you get to [**convergence**](https://developers.google.com/machine-learning/glossary#convergence), the smaller you'll want your weight updates to be.  |\n",
    "| **Use early stopping** | [**Early stopping**](https://developers.google.com/machine-learning/glossary#early_stopping) stops model training *before* it begins to overfit. As in, say the model's loss has stopped decreasing for the past 10 epochs (this number is arbitrary), you may want to stop the model training here and go with the model weights that had the lowest loss (10 epochs prior). |\n",
    "\n",
    "There are more methods for dealing with overfitting but these are some of the main ones.\n",
    "\n",
    "As you start to build more and more deep models, you'll find because deep learnings are *so good* at learning patterns in data, dealing with overfitting is one of the primary problems of deep learning."
   ]
  },
  {
   "cell_type": "markdown",
   "metadata": {
    "id": "m25yzY31LOuN"
   },
   "source": [
    "### 8.2 How to deal with underfitting \n",
    "\n",
    "When a model is [**underfitting**](https://developers.google.com/machine-learning/glossary#underfitting) it is considered to have poor predictive power on the training and test sets.\n",
    "\n",
    "In essence, an underfitting model will fail to reduce the loss values to a desired level.\n",
    "\n",
    "Right now, looking at our current loss curves, I'd considered our `TinyVGG` model, `model_0`, to be underfitting the data.\n",
    "\n",
    "The main idea behind dealing with underfitting is to *increase* your model's predictive power.\n",
    "\n",
    "There are several ways to do this.\n",
    "\n",
    "| **Method to prevent underfitting** | **What is it?** |\n",
    "| ----- | ----- |\n",
    "| **Add more layers/units to your model** | If your model is underfitting, it may not have enough capability to *learn* the required patterns/weights/representations of the data to be predictive. One way to add more predictive power to your model is to increase the number of hidden layers/units within those layers. | \n",
    "| **Tweak the learning rate** | Perhaps your model's learning rate is too high to begin with. And it's trying to update its weights each epoch too much, in turn not learning anything. In this case, you might lower the learning rate and see what happens. |\n",
    "| **Use transfer learning** | Transfer learning is capable of preventing overfitting and underfitting. It involves using the patterns from a previously working model and adjusting them to your own problem. |\n",
    "| **Train for longer** | Sometimes a model just needs more time to learn representations of data. If you find in your smaller experiments your model isn't learning anything, perhaps leaving it train for a more epochs may result in better performance. |\n",
    "| **Use less regularization** | Perhaps your model is underfitting because you're trying to prevent overfitting too much. Holding back on regularization techniques can help your model fit the data better. |"
   ]
  },
  {
   "cell_type": "markdown",
   "metadata": {
    "id": "saiWUNZVLOuN"
   },
   "source": [
    "### 8.3 The balance between overfitting and underfitting\n",
    "\n",
    "None of the methods discussed above are silver bullets, meaning, they don't always work.\n",
    "\n",
    "And preventing overfitting and underfitting is possibly the most active area of machine learning research.\n",
    "\n",
    "Since everone wants their models to fit better (less underfitting) but not so good they don't generalize well and perform in the real world (less overfitting).\n",
    "\n",
    "There's a fine line between overfitting and underfitting.\n",
    "\n",
    "Because too much of each can cause the other.\n",
    "\n",
    "Transfer learning is perhaps one of the most powerful techniques when it comes to dealing with both overfitting and underfitting on your own problems.\n",
    "\n",
    "Rather than handcraft different overfitting and underfitting techniques, transfer learning enables you to take an already working model in a similar problem space to yours (say one from [paperswithcode.com/sota](https://paperswithcode.com/sota) or [Hugging Face models](https://huggingface.co/models)) and apply it to your own dataset.\n",
    "\n",
    "We'll see the power of transfer learning in a later notebook."
   ]
  },
  {
   "cell_type": "markdown",
   "metadata": {
    "id": "tOwXJs6VLOuN"
   },
   "source": [
    "## 9. Model 1: TinyVGG with Data Augmentation\n",
    "\n",
    "Time to try out another model!\n",
    "\n",
    "This time, let's load in the data and use **data augmentation** to see if it improves our results in anyway.\n",
    "\n",
    "First, we'll compose a training transform to include `transforms.TrivialAugmentWide()` as well as resize and turn our images into tensors.\n",
    "\n",
    "We'll do the same for a testing transform except without the data augmentation.\n",
    "\n",
    "### 9.1 Create transform with data augmentation"
   ]
  },
  {
   "cell_type": "code",
   "execution_count": null,
   "metadata": {
    "id": "FQMK_0mILOuN"
   },
   "outputs": [],
   "source": [
    "# Create training transform with TrivialAugment\n",
    "train_transform_trivial_augment = transforms.Compose([\n",
    "    transforms.Resize((64, 64)),\n",
    "    transforms.TrivialAugmentWide(num_magnitude_bins=31),\n",
    "    transforms.ToTensor() \n",
    "])\n",
    "\n",
    "# Create testing transform (no data augmentation)\n",
    "test_transform = transforms.Compose([\n",
    "    transforms.Resize((64, 64)),\n",
    "    transforms.ToTensor()\n",
    "])"
   ]
  },
  {
   "cell_type": "markdown",
   "metadata": {
    "id": "Ld7u2w7hLOuN"
   },
   "source": [
    "Wonderful!\n",
    "\n",
    "Now let's turn our images into `Dataset`'s using `torchvision.datasets.ImageFolder()` and then into `DataLoader`'s with `torch.utils.data.DataLoader()`.\n",
    "\n",
    "### 9.2 Create train and test `Dataset`'s and `DataLoader`'s\n",
    "\n",
    "We'll make sure the train `Dataset` uses the `train_transform_trivial_augment` and the test `Dataset` uses the `test_transform`."
   ]
  },
  {
   "cell_type": "code",
   "execution_count": null,
   "metadata": {
    "id": "8IdbSxEzLOuN",
    "outputId": "20730a5b-bef6-4e0b-ecc9-d2dd7b596164"
   },
   "outputs": [],
   "source": [
    "# Turn image folders into Datasets\n",
    "train_data_augmented = datasets.ImageFolder(train_dir, transform=train_transform_trivial_augment)\n",
    "test_data_simple = datasets.ImageFolder(test_dir, transform=test_transform)\n",
    "\n",
    "train_data_augmented, test_data_simple"
   ]
  },
  {
   "cell_type": "markdown",
   "metadata": {
    "id": "8o3Y9kEzLOuO"
   },
   "source": [
    "And we'll make `DataLoader`'s with a `batch_size=32` and with `num_workers` set to the number of CPUs available on our machine (we can get this using Python's `os.cpu_count()`)."
   ]
  },
  {
   "cell_type": "code",
   "execution_count": null,
   "metadata": {
    "id": "OTLZBEK8LOuO",
    "outputId": "7925a6c1-9b74-48ab-8326-7892fabe4d64"
   },
   "outputs": [],
   "source": [
    "# Turn Datasets into DataLoader's\n",
    "import os\n",
    "BATCH_SIZE = 32\n",
    "NUM_WORKERS = os.cpu_count()\n",
    "\n",
    "torch.manual_seed(42)\n",
    "train_dataloader_augmented = DataLoader(train_data_augmented, \n",
    "                                        batch_size=BATCH_SIZE, \n",
    "                                        shuffle=True,\n",
    "                                        num_workers=NUM_WORKERS)\n",
    "\n",
    "test_dataloader_simple = DataLoader(test_data_simple, \n",
    "                                    batch_size=BATCH_SIZE, \n",
    "                                    shuffle=False, \n",
    "                                    num_workers=NUM_WORKERS)\n",
    "\n",
    "train_dataloader_augmented, test_dataloader"
   ]
  },
  {
   "cell_type": "markdown",
   "metadata": {
    "id": "poDU3kdxLOuO"
   },
   "source": [
    "### 9.3 Construct and train Model 1\n",
    "\n",
    "Data loaded!\n",
    "\n",
    "Now to build our next model, `model_1`, we can reuse our `TinyVGG` class from before. \n",
    "\n",
    "We'll make sure to send it to the target device."
   ]
  },
  {
   "cell_type": "code",
   "execution_count": null,
   "metadata": {
    "id": "5BcvjnP1LOuO",
    "outputId": "e61b1e53-8f47-4367-bed4-098bbce8ef1b"
   },
   "outputs": [],
   "source": [
    "# Create model_1 and send it to the target device\n",
    "torch.manual_seed(42)\n",
    "model_1 = TinyVGG(\n",
    "    input_shape=3,\n",
    "    hidden_units=10,\n",
    "    output_shape=len(train_data_augmented.classes)).to(device)\n",
    "model_1"
   ]
  },
  {
   "cell_type": "markdown",
   "metadata": {
    "id": "YbhGAJlgLOuO"
   },
   "source": [
    "Model ready!\n",
    "\n",
    "Time to train!\n",
    "\n",
    "Since we've already got functions for the training loop (`train_step()`) and testing loop (`test_step()`) and a function to put them together in `train()`, let's reuse those.\n",
    "\n",
    "We'll use the same setup as `model_0` with only the `train_dataloader` parameter varying:\n",
    "* Train for 5 epochs.\n",
    "* Use `train_dataloader=train_dataloader_augmented` as the training data in `train()`.\n",
    "* Use `torch.nn.CrossEntropyLoss()` as the loss function (since we're working with multi-class classification).\n",
    "* Use `torch.optim.Adam()` with `lr=0.001` as the learning rate as the optimizer.                                                          "
   ]
  },
  {
   "cell_type": "code",
   "execution_count": null,
   "metadata": {
    "colab": {
     "referenced_widgets": [
      "cf64499894624ea2a5c2da2f27c1b765"
     ]
    },
    "id": "xK_Sp142LOuO",
    "outputId": "cff48003-cc2b-42cb-9ed2-ca2dafc300a7"
   },
   "outputs": [],
   "source": [
    "# Set random seeds\n",
    "torch.manual_seed(42) \n",
    "torch.cuda.manual_seed(42)\n",
    "\n",
    "# Set number of epochs\n",
    "NUM_EPOCHS = 5\n",
    "\n",
    "# Setup loss function and optimizer\n",
    "loss_fn = nn.CrossEntropyLoss()\n",
    "optimizer = torch.optim.Adam(params=model_1.parameters(), lr=0.001)\n",
    "\n",
    "# Start the timer\n",
    "from timeit import default_timer as timer \n",
    "start_time = timer()\n",
    "\n",
    "# Train model_1\n",
    "model_1_results = train(model=model_1, \n",
    "                        train_dataloader=train_dataloader_augmented,\n",
    "                        test_dataloader=test_dataloader_simple,\n",
    "                        optimizer=optimizer,\n",
    "                        loss_fn=loss_fn, \n",
    "                        epochs=NUM_EPOCHS)\n",
    "\n",
    "# End the timer and print out how long it took\n",
    "end_time = timer()\n",
    "print(f\"Total training time: {end_time-start_time:.3f} seconds\")"
   ]
  },
  {
   "cell_type": "markdown",
   "metadata": {
    "id": "rmZdBrvOLOuO"
   },
   "source": [
    "Hmm...\n",
    "\n",
    "It doesn't look like our model performed very well again.\n",
    "\n",
    "Let's check out its loss curves."
   ]
  },
  {
   "cell_type": "markdown",
   "metadata": {
    "id": "mPXBQVogLOuO"
   },
   "source": [
    "### 9.4 Plot the loss curves of Model 1\n",
    "\n",
    "Since we've got the results of `model_1` saved in a results dictionary, `model_1_results`, we can plot them using `plot_loss_curves()`."
   ]
  },
  {
   "cell_type": "code",
   "execution_count": null,
   "metadata": {
    "id": "Xv5N0RCXLOuO",
    "outputId": "91b715a6-a866-413e-b6a3-80295344c28f"
   },
   "outputs": [],
   "source": [
    "plot_loss_curves(model_1_results)"
   ]
  },
  {
   "cell_type": "markdown",
   "metadata": {
    "id": "OoNTb3RrLOuP"
   },
   "source": [
    "Wow...\n",
    "\n",
    "These don't look very good either...\n",
    "\n",
    "Is our model **underfitting** or **overfitting**?\n",
    "\n",
    "Or both?\n",
    "\n",
    "Ideally we'd like it have higher accuracy and lower loss right?\n",
    "\n",
    "What are some methods you could try to use to achieve these?"
   ]
  },
  {
   "cell_type": "markdown",
   "metadata": {
    "id": "AcRHDuiRLOuP"
   },
   "source": [
    "## 10. Compare model results\n",
    "\n",
    "Even though our models our performing quite poorly, we can still write code to compare them.\n",
    "\n",
    "Let's first turn our model results in pandas DataFrames."
   ]
  },
  {
   "cell_type": "code",
   "execution_count": null,
   "metadata": {},
   "outputs": [],
   "source": []
  },
  {
   "cell_type": "code",
   "execution_count": null,
   "metadata": {
    "id": "lOOlCmPbLOuP",
    "outputId": "f45db717-432f-483d-f176-b52bff640646"
   },
   "outputs": [],
   "source": [
    "import pandas as pd\n",
    "model_0_df = pd.DataFrame(model_0_results)\n",
    "model_1_df = pd.DataFrame(model_1_results)\n",
    "model_0_df"
   ]
  },
  {
   "cell_type": "markdown",
   "metadata": {
    "id": "O3wih39ELOuP"
   },
   "source": [
    "And now we can write some plotting code using `matplotlib` to visualize the results of `model_0` and `model_1` together."
   ]
  },
  {
   "cell_type": "code",
   "execution_count": null,
   "metadata": {
    "id": "7eoJnlLaLOuP",
    "outputId": "60b8757b-a0c1-4451-c4e9-d2ec7f819dcb"
   },
   "outputs": [],
   "source": [
    "# Setup a plot \n",
    "plt.figure(figsize=(15, 10))\n",
    "\n",
    "# Get number of epochs\n",
    "epochs = range(len(model_0_df))\n",
    "\n",
    "# Plot train loss\n",
    "plt.subplot(2, 2, 1)\n",
    "plt.plot(epochs, model_0_df[\"train_loss\"], label=\"Model 0\")\n",
    "plt.plot(epochs, model_1_df[\"train_loss\"], label=\"Model 1\")\n",
    "plt.title(\"Train Loss\")\n",
    "plt.xlabel(\"Epochs\")\n",
    "plt.legend()\n",
    "\n",
    "# Plot test loss\n",
    "plt.subplot(2, 2, 2)\n",
    "plt.plot(epochs, model_0_df[\"test_loss\"], label=\"Model 0\")\n",
    "plt.plot(epochs, model_1_df[\"test_loss\"], label=\"Model 1\")\n",
    "plt.title(\"Test Loss\")\n",
    "plt.xlabel(\"Epochs\")\n",
    "plt.legend()\n",
    "\n",
    "# Plot train accuracy\n",
    "plt.subplot(2, 2, 3)\n",
    "plt.plot(epochs, model_0_df[\"train_acc\"], label=\"Model 0\")\n",
    "plt.plot(epochs, model_1_df[\"train_acc\"], label=\"Model 1\")\n",
    "plt.title(\"Train Accuracy\")\n",
    "plt.xlabel(\"Epochs\")\n",
    "plt.legend()\n",
    "\n",
    "# Plot test accuracy\n",
    "plt.subplot(2, 2, 4)\n",
    "plt.plot(epochs, model_0_df[\"test_acc\"], label=\"Model 0\")\n",
    "plt.plot(epochs, model_1_df[\"test_acc\"], label=\"Model 1\")\n",
    "plt.title(\"Test Accuracy\")\n",
    "plt.xlabel(\"Epochs\")\n",
    "plt.legend();"
   ]
  },
  {
   "cell_type": "markdown",
   "metadata": {
    "id": "PSr87wHjLOuP"
   },
   "source": [
    "It looks like our models both performed equally poorly and were kind of sporadic (the metrics go up and down sharply).\n",
    "\n",
    "If you built `model_2`, what would you do differently to try and improve performance?"
   ]
  },
  {
   "cell_type": "markdown",
   "metadata": {
    "id": "l3gIqcTLLOuP",
    "tags": []
   },
   "source": [
    "## 11. Make a prediction on a custom image\n",
    "\n",
    "If you've trained a model on a certain dataset, chances are you'd like to make a prediction on on your own custom data.\n",
    "\n",
    "In our case, since we've trained a model on pizza, steak and sushi images, how could we use our model to make a prediction on one of our own images?\n",
    "\n",
    "To do so, we can load an image and then **preprocess it in a way that matches the type of data our model was trained on**.\n",
    "\n",
    "In other words, we'll have to convert our own custom image to a tensor and make sure it's in the right datatype before passing it to our model.\n",
    "\n",
    "Let's start by downloading a custom image.\n",
    "\n",
    "Let's download a photo of [my Dad giving two thumbs up to a big pizza from the Learn PyTorch for Deep Learning GitHub](https://github.com/mrdbourke/pytorch-deep-learning/blob/main/images/04-pizza-dad.jpeg).\n",
    "\n",
    "We download the image using Python's `requests` module.\n",
    "\n",
    "> **Note:** If you're using Google Colab, you can also upload an image to the current session by going to the left hand side menu -> Files -> Upload to session storage. Beware though, this image will delete when your Google Colab session ends.\n"
   ]
  },
  {
   "cell_type": "code",
   "execution_count": null,
   "metadata": {
    "id": "rgduX6mSLOuP",
    "outputId": "8c7fd846-8fba-4333-8291-5ac797d26920"
   },
   "outputs": [],
   "source": [
    "# Download custom image\n",
    "import requests\n",
    "\n",
    "# Setup custom image path\n",
    "custom_image_path = data_path / \"04-pizza-dad.jpeg\"\n",
    "\n",
    "# Download the image if it doesn't already exist\n",
    "if not custom_image_path.is_file():\n",
    "    with open(custom_image_path, \"wb\") as f:\n",
    "        # When downloading from GitHub, need to use the \"raw\" file link\n",
    "        request = requests.get(\"https://raw.githubusercontent.com/mrdbourke/pytorch-deep-learning/main/images/04-pizza-dad.jpeg\")\n",
    "        print(f\"Downloading {custom_image_path}...\")\n",
    "        f.write(request.content)\n",
    "else:\n",
    "    print(f\"{custom_image_path} already exists, skipping download.\")"
   ]
  },
  {
   "cell_type": "markdown",
   "metadata": {},
   "source": [
    "### Ex 4: Download a photo withyourself and food and make a prediction"
   ]
  },
  {
   "cell_type": "code",
   "execution_count": 128,
   "metadata": {},
   "outputs": [
    {
     "name": "stdout",
     "output_type": "stream",
     "text": [
      "Downloading data\\04-pizza-dad.jpeg...\n"
     ]
    }
   ],
   "source": [
    "# Download custom image\n",
    "import requests\n",
    "\n",
    "# Setup custom image path\n",
    "custom_image_path = data_path / \"04-pizza-dad.jpeg\"\n",
    "\n",
    "# Download the image if it doesn't already exist\n",
    "if not custom_image_path.is_file():\n",
    "    with open(custom_image_path, \"wb\") as f:\n",
    "        # When downloading from GitHub, need to use the \"raw\" file link\n",
    "        request = requests.get(\"https://github.com/mrdbourke/pytorch-deep-learning/raw/main/data/data/04-pizza-dad.jpeg\")\n",
    "        print(f\"Downloading {custom_image_path}...\")\n",
    "        f.write(request.content)\n",
    "else:\n",
    "    print(f\"{custom_image_path} already exists, skipping download.\")"
   ]
  },
  {
   "cell_type": "markdown",
   "metadata": {
    "id": "MnvdNJG9LOuP"
   },
   "source": [
    "### 11.1 Loading in a custom image with PyTorch\n",
    "\n",
    "Excellent!\n",
    "\n",
    "Looks like we've got a custom image downloaded and ready to go at `data/04-pizza-dad.jpeg`. \n",
    "\n",
    "Time to load it in.\n",
    "\n",
    "PyTorch's `torchvision` has several input and output (\"IO\" or \"io\" for short) methods for reading and writing images and video in [`torchvision.io`](https://pytorch.org/vision/stable/io.html).\n",
    "\n",
    "Since we want to load in an image, we'll use [`torchvision.io.read_image()`](https://pytorch.org/vision/stable/generated/torchvision.io.read_image.html#torchvision.io.read_image).\n",
    "\n",
    "This method will read a JPEG or PNG image and turn it into a 3 dimensional RGB or grayscale `torch.Tensor` with values of datatype `uint8` in range `[0, 255]`.\n",
    "\n",
    "Let's try it out."
   ]
  },
  {
   "cell_type": "code",
   "execution_count": null,
   "metadata": {
    "id": "EF0Olj9eLOuQ",
    "outputId": "a3517f76-099a-4190-e4ff-c374370735d3"
   },
   "outputs": [],
   "source": [
    "import torchvision\n",
    "\n",
    "# Read in custom image\n",
    "custom_image_uint8 = torchvision.io.read_image(str(custom_image_path))\n",
    "\n",
    "# Print out image data\n",
    "print(f\"Custom image tensor:\\n{custom_image_uint8}\\n\")\n",
    "print(f\"Custom image shape: {custom_image_uint8.shape}\\n\")\n",
    "print(f\"Custom image dtype: {custom_image_uint8.dtype}\")"
   ]
  },
  {
   "cell_type": "markdown",
   "metadata": {
    "id": "uDmQxFYBLOuQ"
   },
   "source": [
    "Nice! Looks like our image is in tensor format, however, is this image format compatible with our model?\n",
    "\n",
    "Our `custom_image` tensor is of datatype `torch.uint8` and its values are between `[0, 255]`.\n",
    "\n",
    "But our model takes image tensors of datatype `torch.float32` and with values between `[0, 1]`.\n",
    "\n",
    "So before we use our custom image with our model, **we'll need to convert it to the same format as the data our model is trained on**.\n",
    "\n",
    "If we don't do this, our model will error."
   ]
  },
  {
   "cell_type": "code",
   "execution_count": null,
   "metadata": {
    "id": "Mm9NcbfrLOuQ",
    "outputId": "c27eb257-ef58-49ec-b3c0-db8b798e5c49"
   },
   "outputs": [],
   "source": [
    "# Try to make a prediction on image in uint8 format (this will error)\n",
    "model_1.eval()\n",
    "with torch.inference_mode():\n",
    "    model_1(custom_image_uint8.to(device))"
   ]
  },
  {
   "cell_type": "markdown",
   "metadata": {
    "id": "ZGBjkZXRLOuQ"
   },
   "source": [
    "If we try to make a prediction on an image in a different datatype to what our model was trained on, we get an error like the following:\n",
    "\n",
    "> `RuntimeError: Input type (torch.cuda.ByteTensor) and weight type (torch.cuda.FloatTensor) should be the same`\n",
    "\n",
    "Let's fix this by converting our custom image to the same datatype as what our model was trained on (`torch.float32`)."
   ]
  },
  {
   "cell_type": "code",
   "execution_count": null,
   "metadata": {
    "id": "SfP1xj9DLOuQ",
    "outputId": "3eb4845c-575b-4ff7-908c-b2a99eccd836"
   },
   "outputs": [],
   "source": [
    "# Load in custom image and convert the tensor values to float32\n",
    "custom_image = torchvision.io.read_image(str(custom_image_path)).type(torch.float32)\n",
    "\n",
    "# Divide the image pixel values by 255 to get them between [0, 1]\n",
    "custom_image = custom_image / 255. \n",
    "\n",
    "# Print out image data\n",
    "print(f\"Custom image tensor:\\n{custom_image}\\n\")\n",
    "print(f\"Custom image shape: {custom_image.shape}\\n\")\n",
    "print(f\"Custom image dtype: {custom_image.dtype}\")"
   ]
  },
  {
   "cell_type": "markdown",
   "metadata": {
    "id": "qR4Sx79eLOuQ"
   },
   "source": [
    "### 11.2 Predicting on custom images with a trained PyTorch model\n",
    "\n",
    "Beautiful, it looks like our image data is now in the same format our model was trained on.\n",
    "\n",
    "Except for one thing...\n",
    "\n",
    "It's `shape`.\n",
    "\n",
    "Our model was trained on images with shape `[3, 64, 64]`, whereas our custom image is currently `[3, 4032, 3024]`. \n",
    "\n",
    "How could we make sure our custom image is the same shape as the images our model was trained on?\n",
    "\n",
    "Are there any `torchvision.transforms` that could help?\n",
    "\n",
    "Before we answer that question, let's plot the image with `matplotlib` to make sure it looks okay, remember we'll have to permute the dimensions from `CHW` to `HWC` to suit `matplotlib`'s requirements."
   ]
  },
  {
   "cell_type": "code",
   "execution_count": null,
   "metadata": {
    "id": "MbuTFfn6LOuQ",
    "outputId": "f9894e81-7658-4ca2-f942-36471170e769"
   },
   "outputs": [],
   "source": [
    "# Plot custom image\n",
    "plt.imshow(custom_image.permute(1, 2, 0)) # need to permute image dimensions from CHW -> HWC otherwise matplotlib will error\n",
    "plt.title(f\"Image shape: {custom_image.shape}\")\n",
    "plt.axis(False);"
   ]
  },
  {
   "cell_type": "markdown",
   "metadata": {
    "id": "Wvc3h9PTLOuQ"
   },
   "source": [
    "Two thumbs up!\n",
    "\n",
    "Now how could we get our image to be the same size as the images our model was trained on?\n",
    "\n",
    "One way to do so is with `torchvision.transforms.Resize()`.\n",
    "\n",
    "Let's compose a transform pipeline to do so."
   ]
  },
  {
   "cell_type": "code",
   "execution_count": null,
   "metadata": {
    "id": "j1Jg77P8LOuQ",
    "outputId": "46602294-466a-4952-a1b8-bbce7e141366"
   },
   "outputs": [],
   "source": [
    "# Create transform pipleine to resize image\n",
    "custom_image_transform = transforms.Compose([\n",
    "    transforms.Resize((64, 64)),\n",
    "])\n",
    "\n",
    "# Transform target image\n",
    "custom_image_transformed = custom_image_transform(custom_image)\n",
    "\n",
    "# Print out original shape and new shape\n",
    "print(f\"Original shape: {custom_image.shape}\")\n",
    "print(f\"New shape: {custom_image_transformed.shape}\")"
   ]
  },
  {
   "cell_type": "markdown",
   "metadata": {
    "id": "8H3Gc4glLOuQ"
   },
   "source": [
    "Woohoo!\n",
    "\n",
    "Let's finally make a prediction on our own custom image."
   ]
  },
  {
   "cell_type": "code",
   "execution_count": null,
   "metadata": {
    "id": "65HwBILaLOuR",
    "outputId": "d2472712-b566-450a-8879-9f8f8539b57c"
   },
   "outputs": [],
   "source": [
    "model_1.eval()\n",
    "with torch.inference_mode():\n",
    "    custom_image_pred = model_1(custom_image_transformed)"
   ]
  },
  {
   "cell_type": "markdown",
   "metadata": {
    "id": "EHPgOGBALOuR"
   },
   "source": [
    "Oh my goodness...\n",
    "\n",
    "Despite our preparations our custom image and model are on different devices.\n",
    "\n",
    "And we get the error:\n",
    "\n",
    "> `RuntimeError: Expected all tensors to be on the same device, but found at least two devices, cpu and cuda:0! (when checking argument for argument weight in method wrapper___slow_conv2d_forward)`\n",
    "\n",
    "Let's fix that by putting our `custom_image_transformed` on the target device."
   ]
  },
  {
   "cell_type": "code",
   "execution_count": null,
   "metadata": {
    "id": "DSZO5vHiLOuR",
    "outputId": "b78de89b-a730-4eb2-9af4-432fae19faa4"
   },
   "outputs": [],
   "source": [
    "model_1.eval()\n",
    "with torch.inference_mode():\n",
    "    custom_image_pred = model_1(custom_image_transformed.to(device))"
   ]
  },
  {
   "cell_type": "markdown",
   "metadata": {
    "id": "PgJlhfQ1LOuR"
   },
   "source": [
    "What now?\n",
    "\n",
    "It looks like we're getting a shape error.\n",
    "\n",
    "Why might this be?\n",
    "\n",
    "We converted our custom image to be the same size as the images our model was trained on...\n",
    "\n",
    "Oh wait...\n",
    "\n",
    "There's one dimension we forgot about.\n",
    "\n",
    "The batch size.\n",
    "\n",
    "Our model expects image tensors with a batch size dimension at the start (`NCHW` where `N` is the batch size).\n",
    "\n",
    "Except our custom image is currently only `CHW`. \n",
    "\n",
    "We can add a batch size dimension using `torch.unsqueeze(dim=0)` to add an extra dimension our image and *finally* make a prediction. \n",
    "\n",
    "Essentially we'll be telling our model to predict on a single image (an image with a `batch_size` of 1)."
   ]
  },
  {
   "cell_type": "code",
   "execution_count": null,
   "metadata": {
    "id": "PI74_1FDLOuR",
    "outputId": "f517a14f-2c74-4298-92e5-8d87c721331e"
   },
   "outputs": [],
   "source": [
    "model_1.eval()\n",
    "with torch.inference_mode():\n",
    "    # Add an extra dimension to image\n",
    "    custom_image_transformed_with_batch_size = custom_image_transformed.unsqueeze(dim=0)\n",
    "    \n",
    "    # Print out different shapes\n",
    "    print(f\"Custom image transformed shape: {custom_image_transformed.shape}\")\n",
    "    print(f\"Unsqueezed custom image shape: {custom_image_transformed_with_batch_size.shape}\")\n",
    "    \n",
    "    # Make a prediction on image with an extra dimension\n",
    "    custom_image_pred = model_1(custom_image_transformed.unsqueeze(dim=0).to(device))"
   ]
  },
  {
   "cell_type": "markdown",
   "metadata": {
    "id": "mr3_9kJFLOuR"
   },
   "source": [
    "Yes!!!\n",
    "\n",
    "It looks like it worked!\n",
    "\n",
    "> **Note:** What we've just gone through are three of the classical and most common deep learning and PyTorch issues:\n",
    "> 1. **Wrong datatypes** - our model expects `torch.float32` where our original custom image was `uint8`.\n",
    "> 2. **Wrong device** - our model was on the target `device` (in our case, the GPU) whereas our target data hadn't been moved to the target `device` yet.\n",
    "> 3. **Wrong shapes** - our model expected an input image of shape `[N, C, H, W]` or `[batch_size, color_channels, height, width]` whereas our custom image tensor was of shape `[color_channels, height, width]`.\n",
    ">\n",
    "> Keep in mind, these errors aren't just for predicting on custom images. \n",
    ">\n",
    "> They will be present with almost every kind of data type (text, audio, structured data) and problem you work with.\n",
    "\n",
    "Now let's take a look at our model's predictions."
   ]
  },
  {
   "cell_type": "code",
   "execution_count": null,
   "metadata": {
    "id": "MXnMw-DbLOuR",
    "outputId": "8e0d4030-6cb8-473a-c232-636c03ad5462"
   },
   "outputs": [],
   "source": [
    "custom_image_pred"
   ]
  },
  {
   "cell_type": "markdown",
   "metadata": {
    "id": "Oa0PY89nLOuR"
   },
   "source": [
    "Alright, these are still in *logit form* (the raw outputs of a model are called logits).\n",
    "\n",
    "Let's convert them from logits -> prediction probabilities -> prediction labels."
   ]
  },
  {
   "cell_type": "code",
   "execution_count": null,
   "metadata": {
    "id": "Tyt09JgjLOuR",
    "outputId": "e8b61380-6123-4c3a-9647-b74b9585df9b"
   },
   "outputs": [],
   "source": [
    "# Print out prediction logits\n",
    "print(f\"Prediction logits: {custom_image_pred}\")\n",
    "\n",
    "# Convert logits -> prediction probabilities (using torch.softmax() for multi-class classification)\n",
    "custom_image_pred_probs = torch.softmax(custom_image_pred, dim=1)\n",
    "print(f\"Prediction probabilities: {custom_image_pred_probs}\")\n",
    "\n",
    "# Convert prediction probabilities -> prediction labels\n",
    "custom_image_pred_label = torch.argmax(custom_image_pred_probs, dim=1)\n",
    "print(f\"Prediction label: {custom_image_pred_label}\")"
   ]
  },
  {
   "cell_type": "markdown",
   "metadata": {
    "id": "HL2Y1tvhLOuR"
   },
   "source": [
    "Alright!\n",
    "\n",
    "Looking good.\n",
    "\n",
    "But of course our prediction label is still in index/tensor form.\n",
    "\n",
    "We can convert it to a string class name prediction by indexing on the `class_names` list."
   ]
  },
  {
   "cell_type": "code",
   "execution_count": null,
   "metadata": {
    "id": "8SnGchStLOuS",
    "outputId": "8587716a-992e-4398-c207-b91455e94063"
   },
   "outputs": [],
   "source": [
    "# Find the predicted label\n",
    "custom_image_pred_class = class_names[custom_image_pred_label.cpu()] # put pred label to CPU, otherwise will error\n",
    "custom_image_pred_class"
   ]
  },
  {
   "cell_type": "markdown",
   "metadata": {
    "id": "eSB6kCHhLOuS"
   },
   "source": [
    "Wow.\n",
    "\n",
    "It looks like the model gets the prediction right, even though it was performing poorly based on our evaluation metrics.\n",
    "\n",
    "> **Note:** The model in its current form will predict \"pizza\", \"steak\" or \"sushi\" no matter what image it's given. If you wanted your model to predict on a different class, you'd have to train it to do so.\n",
    "\n",
    "But if we check the `custom_image_pred_probs`, we'll notice that the model gives almost equal weight (the values are similar) to every class."
   ]
  },
  {
   "cell_type": "code",
   "execution_count": null,
   "metadata": {
    "id": "QptKEmtpLOuS",
    "outputId": "b35db042-090f-4474-ba0b-71f1527ea341"
   },
   "outputs": [],
   "source": [
    "# The values of the prediction probabilities are quite similar\n",
    "custom_image_pred_probs"
   ]
  },
  {
   "cell_type": "markdown",
   "metadata": {
    "id": "8JGSW-VcLOuS"
   },
   "source": [
    "Having prediction probabilities this similar could mean a couple of things:\n",
    "1. The model is trying to predict all three classes at the same time (there may be an image containing pizza, steak and sushi).\n",
    "2. The model doesn't really know what it wants to predict and is in turn just assigning similar values to each of the classes.\n",
    "\n",
    "Our case is number 2, since our model is poorly trained, it is basically *guessing* the prediction."
   ]
  },
  {
   "cell_type": "markdown",
   "metadata": {
    "id": "jgd_BQSaLOuS"
   },
   "source": [
    "### 11.3 Putting custom image prediction together: building a function\n",
    "\n",
    "Doing all of the above steps every time you'd like to make a prediction on a custom image would quickly become tedious.\n",
    "\n",
    "So let's put them all together in a function we can easily use over and over again.\n",
    "\n",
    "Specifically, let's make a function that:\n",
    "1. Takes in a target image path and converts to the right datatype for our model (`torch.float32`).\n",
    "2. Makes sure the target image pixel values are in the range `[0, 1]`.\n",
    "3. Transforms the target image if necessary.\n",
    "4. Makes sure the model is on the target device.\n",
    "5. Makes a prediction on the target image with a trained model (ensuring the image is the right size and on the same device as the model).\n",
    "6. Converts the model's output logits to prediction probabilities.\n",
    "7. Converts the prediction probabilities to prediction labels.\n",
    "8. Plots the target image alongside the model prediction and prediction probability.\n",
    "\n",
    "A fair few steps but we've got this!"
   ]
  },
  {
   "cell_type": "code",
   "execution_count": null,
   "metadata": {
    "id": "8SeH_IH6LOuS"
   },
   "outputs": [],
   "source": [
    "def pred_and_plot_image(model: torch.nn.Module, \n",
    "                        image_path: str, \n",
    "                        class_names: List[str] = None, \n",
    "                        transform=None,\n",
    "                        device: torch.device = device):\n",
    "    \"\"\"Makes a prediction on a target image and plots the image with its prediction.\"\"\"\n",
    "    \n",
    "    # 1. Load in image and convert the tensor values to float32\n",
    "    target_image = torchvision.io.read_image(str(image_path)).type(torch.float32)\n",
    "    \n",
    "    # 2. Divide the image pixel values by 255 to get them between [0, 1]\n",
    "    target_image = target_image / 255. \n",
    "    \n",
    "    # 3. Transform if necessary\n",
    "    if transform:\n",
    "        target_image = transform(target_image)\n",
    "    \n",
    "    # 4. Make sure the model is on the target device\n",
    "    model.to(device)\n",
    "    \n",
    "    # 5. Turn on model evaluation mode and inference mode\n",
    "    model.eval()\n",
    "    with torch.inference_mode():\n",
    "        # Add an extra dimension to the image\n",
    "        target_image = target_image.unsqueeze(dim=0)\n",
    "    \n",
    "        # Make a prediction on image with an extra dimension and send it to the target device\n",
    "        target_image_pred = model(target_image.to(device))\n",
    "        \n",
    "    # 6. Convert logits -> prediction probabilities (using torch.softmax() for multi-class classification)\n",
    "    target_image_pred_probs = torch.softmax(target_image_pred, dim=1)\n",
    "\n",
    "    # 7. Convert prediction probabilities -> prediction labels\n",
    "    target_image_pred_label = torch.argmax(target_image_pred_probs, dim=1)\n",
    "    \n",
    "    # 8. Plot the image alongside the prediction and prediction probability\n",
    "    plt.imshow(target_image.squeeze().permute(1, 2, 0)) # make sure it's the right size for matplotlib\n",
    "    if class_names:\n",
    "        title = f\"Pred: {class_names[target_image_pred_label.cpu()]} | Prob: {target_image_pred_probs.max().cpu():.3f}\"\n",
    "    else: \n",
    "        title = f\"Pred: {target_image_pred_label} | Prob: {target_image_pred_probs.max().cpu():.3f}\"\n",
    "    plt.title(title)\n",
    "    plt.axis(False);"
   ]
  },
  {
   "cell_type": "markdown",
   "metadata": {
    "id": "jSwB222sLOuS"
   },
   "source": [
    "What a nice looking function, let's test it out."
   ]
  },
  {
   "cell_type": "code",
   "execution_count": null,
   "metadata": {
    "id": "q5VGt8tGLOuS",
    "outputId": "259b8be3-e0d0-451a-97bd-38806bb4dc7d"
   },
   "outputs": [],
   "source": [
    "# Pred on our custom image\n",
    "pred_and_plot_image(model=model_1,\n",
    "                    image_path=custom_image_path,\n",
    "                    class_names=class_names,\n",
    "                    transform=custom_image_transform,\n",
    "                    device=device)"
   ]
  },
  {
   "cell_type": "markdown",
   "metadata": {
    "id": "7iDtwrIPLOuS"
   },
   "source": [
    "Two thumbs up again!\n",
    "\n",
    "Looks like our model got the prediction right just by guessing.\n",
    "\n",
    "This won't always be the case with other images though...\n",
    "\n",
    "The image is pixelated too because we resized it to `[64, 64]` using `custom_image_transform`.\n",
    "\n",
    "> **Exercise:** Try making a prediction with one of your own images of pizza, steak or sushi and see what happens."
   ]
  },
  {
   "cell_type": "markdown",
   "metadata": {
    "id": "GefTDOQALOuS"
   },
   "source": [
    "## Main takeaways\n",
    "\n",
    "We've covered a fair bit in this module.\n",
    "\n",
    "Let's summarise it with a few dot points.\n",
    "\n",
    "* PyTorch has many in-built functions to deal with all kinds of data, from vision to text to audio to recommendation systems.\n",
    "* If PyTorch's built-in data loading functions don't suit your requirements, you can write code to create your own custom datasets by subclassing `torch.utils.data.Dataset`.\n",
    "* `torch.utils.data.DataLoader`'s in PyTorch help turn your `Dataset`'s into iterables that can be used when training and testing a model.\n",
    "* A lot of machine learning is dealing with the balance between **overfitting** and **underfitting** (we discussed different methods for each above, so a good exercise would be to research more and writing code to try out the different techniques).\n",
    "* Predicting on your own custom data with a trained model is possible, as long as you format the data into a similar format to what the model was trained on. Make sure you take care of the three big PyTorch and deep learning errors:\n",
    "    1. **Wrong datatypes** - Your model expected `torch.float32` when your data is `torch.uint8`.\n",
    "    2. **Wrong data shapes** - Your model expected `[batch_size, color_channels, height, width]` when your data is `[color_channels, height, width]`.\n",
    "    3. **Wrong devices** - Your model is on the GPU but your data is on the CPU. "
   ]
  },
  {
   "cell_type": "markdown",
   "metadata": {},
   "source": [
    "## Exercises\n",
    "\n",
    "All of the exercises are focused on practicing the code in the sections above.\n"
   ]
  },
  {
   "cell_type": "markdown",
   "metadata": {},
   "source": [
    "#### Ex 4  Our models are underperforming (not fitting the data well). What are 3 methods for preventing underfitting? Write them down and explain each with a sentence."
   ]
  },
  {
   "cell_type": "code",
   "execution_count": null,
   "metadata": {},
   "outputs": [],
   "source": [
    "\"\"\"\n",
    "Increasing our model's predictive power is the key goal of preventing underfitting.\n",
    "\n",
    "(Increase model complexity) Include extra layers and units. \n",
    "This might provide the model additional chances to discover patterns in the training data that can be generalized. \n",
    "For instance, employ four hidden layers in place of the recommended two.\n",
    "Put transfer learning to use. By applying established/functional patterns from one model/dataset to your own problem, \n",
    "transfer leaning helps to reduce underfitting.\n",
    "\n",
    "Train the model more thoroughly. It's possible that the first training schedule you used didn't allow \n",
    "your model enough time to discover patterns in the data. Longer (more epochs) training of your model \n",
    "might produce better outcomes.\n",
    "\n",
    "\"\"\""
   ]
  },
  {
   "cell_type": "markdown",
   "metadata": {},
   "source": [
    "#### Ex 5 Recreate `model_0` we built in section 7."
   ]
  },
  {
   "cell_type": "code",
   "execution_count": 112,
   "metadata": {},
   "outputs": [
    {
     "data": {
      "text/plain": [
       "TinyVGG(\n",
       "  (conv_block_1): Sequential(\n",
       "    (0): Conv2d(3, 10, kernel_size=(3, 3), stride=(1, 1), padding=(1, 1))\n",
       "    (1): ReLU()\n",
       "    (2): Conv2d(10, 10, kernel_size=(3, 3), stride=(1, 1), padding=(1, 1))\n",
       "    (3): ReLU()\n",
       "    (4): MaxPool2d(kernel_size=2, stride=2, padding=0, dilation=1, ceil_mode=False)\n",
       "  )\n",
       "  (conv_block_2): Sequential(\n",
       "    (0): Conv2d(10, 10, kernel_size=(3, 3), stride=(1, 1), padding=(1, 1))\n",
       "    (1): ReLU()\n",
       "    (2): Conv2d(10, 10, kernel_size=(3, 3), stride=(1, 1), padding=(1, 1))\n",
       "    (3): ReLU()\n",
       "    (4): MaxPool2d(kernel_size=2, stride=2, padding=0, dilation=1, ceil_mode=False)\n",
       "  )\n",
       "  (classifier): Sequential(\n",
       "    (0): Flatten(start_dim=1, end_dim=-1)\n",
       "    (1): Linear(in_features=2560, out_features=3, bias=True)\n",
       "  )\n",
       ")"
      ]
     },
     "execution_count": 112,
     "metadata": {},
     "output_type": "execute_result"
    }
   ],
   "source": [
    "import torch\n",
    "from torch import nn\n",
    "\n",
    "class TinyVGG(nn.Module):\n",
    "  def __init__(self, input_shape, hidden_units, output_shape):\n",
    "    super().__init__()\n",
    "    self.conv_block_1 = nn.Sequential(\n",
    "        nn.Conv2d(in_channels=input_shape,\n",
    "                  out_channels=hidden_units,\n",
    "                  kernel_size=3,\n",
    "                  stride=1,\n",
    "                  padding=1),\n",
    "        nn.ReLU(),\n",
    "        nn.Conv2d(in_channels=hidden_units,\n",
    "                  out_channels=hidden_units,\n",
    "                  kernel_size=3,\n",
    "                  stride=1,\n",
    "                  padding=1),\n",
    "        nn.ReLU(),\n",
    "        nn.MaxPool2d(kernel_size=2)\n",
    "    )\n",
    "    self.conv_block_2 = nn.Sequential(\n",
    "        nn.Conv2d(in_channels=hidden_units,\n",
    "                  out_channels=hidden_units,\n",
    "                  kernel_size=3,\n",
    "                  stride=1,\n",
    "                  padding=1),\n",
    "        nn.ReLU(),\n",
    "        nn.Conv2d(in_channels=hidden_units,\n",
    "                  out_channels=hidden_units,\n",
    "                  kernel_size=3,\n",
    "                  stride=1,\n",
    "                  padding=1),\n",
    "        nn.ReLU(),\n",
    "        nn.MaxPool2d(kernel_size=2)\n",
    "    )\n",
    "    self.classifier = nn.Sequential(\n",
    "        nn.Flatten(),\n",
    "        nn.Linear(in_features=hidden_units*16*16,\n",
    "                  out_features=output_shape))\n",
    "        \n",
    "  def forward(self, x):\n",
    "    x = self.conv_block_1(x)\n",
    "    # print(f\"Layer 1 shape: {x.shape}\")\n",
    "    x = self.conv_block_2(x)\n",
    "    # print(f\"Layer 2 shape: {x.shape}\")\n",
    "    x = self.classifier(x)\n",
    "    # print(f\"Layer 3 shape: {x.shape}\")\n",
    "    return x\n",
    "\n",
    "\n",
    "model_0 = TinyVGG(input_shape = 3,\n",
    "                  hidden_units=10,\n",
    "                  output_shape=len(class_names)).to(device)\n",
    "model_0"
   ]
  },
  {
   "cell_type": "markdown",
   "metadata": {},
   "source": [
    "#### Ex 6. Create training and testing functions for `model_0`."
   ]
  },
  {
   "cell_type": "code",
   "execution_count": 114,
   "metadata": {},
   "outputs": [],
   "source": [
    "def train_step(model: torch.nn.Module,\n",
    "               dataloader: torch.utils.data.DataLoader,\n",
    "               loss_fn: torch.nn.Module,\n",
    "               optimizer: torch.optim.Optimizer):\n",
    "  \n",
    "  # Put the model in train mode\n",
    "  model.train()\n",
    "\n",
    "  # Setup train loss and train accuracy values\n",
    "  train_loss, train_acc = 0, 0\n",
    "\n",
    "  # Loop through data loader and data batches\n",
    "  for batch, (X, y) in enumerate(dataloader):\n",
    "    # Send data to target device\n",
    "    X, y = X.to(device), y.to(device) \n",
    "\n",
    "    # 1. Forward pass\n",
    "    y_pred = model(X)\n",
    "    # print(y_pred)\n",
    "\n",
    "    # 2. Calculate and accumulate loss\n",
    "    loss = loss_fn(y_pred, y)\n",
    "    train_loss += loss.item()\n",
    "\n",
    "    # 3. Optimizer zero grad \n",
    "    optimizer.zero_grad()\n",
    "\n",
    "    # 4. Loss backward \n",
    "    loss.backward()\n",
    "\n",
    "    # 5. Optimizer step\n",
    "    optimizer.step()\n",
    "\n",
    "    # Calculate and accumualte accuracy metric across all batches\n",
    "    y_pred_class = torch.argmax(torch.softmax(y_pred, dim=1), dim=1)\n",
    "    train_acc += (y_pred_class == y).sum().item()/len(y_pred)\n",
    "\n",
    "  # Adjust metrics to get average loss and average accuracy per batch\n",
    "  train_loss = train_loss / len(dataloader)\n",
    "  train_acc = train_acc / len(dataloader)\n",
    "  return train_loss, train_acc\n",
    "\n",
    "\n",
    "def test_step(model: torch.nn.Module,\n",
    "              dataloader: torch.utils.data.DataLoader,\n",
    "              loss_fn: torch.nn.Module):\n",
    "  \n",
    "  # Put model in eval mode\n",
    "  model.eval()\n",
    "\n",
    "  # Setup the test loss and test accuracy values\n",
    "  test_loss, test_acc = 0, 0\n",
    "\n",
    "  # Turn on inference context manager\n",
    "  with torch.inference_mode():\n",
    "    # Loop through DataLoader batches\n",
    "    for batch, (X, y) in enumerate(dataloader):\n",
    "      # Send data to target device\n",
    "      X, y = X.to(device), y.to(device)\n",
    "\n",
    "      # 1. Forward pass\n",
    "      test_pred_logits = model(X)\n",
    "      # print(test_pred_logits)\n",
    "\n",
    "      # 2. Calculuate and accumulate loss\n",
    "      loss = loss_fn(test_pred_logits, y)\n",
    "      test_loss += loss.item()\n",
    "\n",
    "      # Calculate and accumulate accuracy\n",
    "      test_pred_labels = test_pred_logits.argmax(dim=1)\n",
    "      test_acc += ((test_pred_labels == y).sum().item()/len(test_pred_labels))\n",
    "    \n",
    "  # Adjust metrics to get average loss and accuracy per batch\n",
    "  test_loss = test_loss / len(dataloader)\n",
    "  test_acc = test_acc / len(dataloader)\n",
    "  return test_loss, test_acc\n",
    "\n",
    "\n",
    "from tqdm.auto import tqdm\n",
    "\n",
    "def train(model: torch.nn.Module,\n",
    "          train_dataloader: torch.utils.data.DataLoader,\n",
    "          test_dataloader: torch.utils.data.DataLoader,\n",
    "          optimizer: torch.optim.Optimizer,\n",
    "          loss_fn: torch.nn.Module = nn.CrossEntropyLoss(),\n",
    "          epochs: int = 5):\n",
    "  \n",
    "  # Create results dictionary\n",
    "  results = {\"train_loss\": [],\n",
    "             \"train_acc\": [],\n",
    "             \"test_loss\": [],\n",
    "             \"test_acc\": []}\n",
    "\n",
    "  # Loop through the training and testing steps for a number of epochs\n",
    "  for epoch in tqdm(range(epochs)):\n",
    "    # Train step\n",
    "    train_loss, train_acc = train_step(model=model, \n",
    "                                       dataloader=train_dataloader,\n",
    "                                       loss_fn=loss_fn,\n",
    "                                       optimizer=optimizer)\n",
    "    # Test step\n",
    "    test_loss, test_acc = test_step(model=model, \n",
    "                                    dataloader=test_dataloader,\n",
    "                                    loss_fn=loss_fn)\n",
    "    \n",
    "    # Print out what's happening\n",
    "    print(f\"Epoch: {epoch+1} | \"\n",
    "          f\"train_loss: {train_loss:.4f} | \"\n",
    "          f\"train_acc: {train_acc:.4f} | \"\n",
    "          f\"test_loss: {test_loss:.4f} | \"\n",
    "          f\"test_acc: {test_acc:.4f}\"\n",
    "    )\n",
    "\n",
    "    # Update the results dictionary\n",
    "    results[\"train_loss\"].append(train_loss)\n",
    "    results[\"train_acc\"].append(train_acc)\n",
    "    results[\"test_loss\"].append(test_loss)\n",
    "    results[\"test_acc\"].append(test_acc)\n",
    "\n",
    "  # Return the results dictionary\n",
    "  return results\n",
    "     "
   ]
  },
  {
   "cell_type": "markdown",
   "metadata": {},
   "source": [
    "#### Ex 7 Try training the model you made in exercise 5 for 5, 20 and 50 epochs, \n",
    "#### what happens to the results? Use `torch.optim.Adam()` with a learning rate of 0.001 as the optimizer. "
   ]
  },
  {
   "cell_type": "code",
   "execution_count": 115,
   "metadata": {},
   "outputs": [
    {
     "data": {
      "application/vnd.jupyter.widget-view+json": {
       "model_id": "2f869038315a49ff8d5ecde02191fe79",
       "version_major": 2,
       "version_minor": 0
      },
      "text/plain": [
       "  0%|          | 0/5 [00:00<?, ?it/s]"
      ]
     },
     "metadata": {},
     "output_type": "display_data"
    },
    {
     "name": "stdout",
     "output_type": "stream",
     "text": [
      "Epoch: 1 | train_loss: 1.1176 | train_acc: 0.2978 | test_loss: 1.0971 | test_acc: 0.3333\n",
      "Epoch: 2 | train_loss: 1.0998 | train_acc: 0.3022 | test_loss: 1.0994 | test_acc: 0.2533\n",
      "Epoch: 3 | train_loss: 1.0991 | train_acc: 0.3289 | test_loss: 1.0996 | test_acc: 0.3333\n",
      "Epoch: 4 | train_loss: 1.0989 | train_acc: 0.3244 | test_loss: 1.0999 | test_acc: 0.3333\n",
      "Epoch: 5 | train_loss: 1.0989 | train_acc: 0.3111 | test_loss: 1.0999 | test_acc: 0.3333\n"
     ]
    }
   ],
   "source": [
    "# Train for 5 epochs\n",
    "torch.manual_seed(42)\n",
    "torch.cuda.manual_seed(42)\n",
    "model_0 = TinyVGG(input_shape=3,\n",
    "                  hidden_units=10,\n",
    "                  output_shape=len(class_names)).to(device)\n",
    "\n",
    "loss_fn=nn.CrossEntropyLoss()\n",
    "optimizer = torch.optim.Adam(model_0.parameters(), lr=0.001)\n",
    "\n",
    "model_0_results = train(model=model_0,\n",
    "                        train_dataloader=train_dataloader,\n",
    "                        test_dataloader=test_dataloader,\n",
    "                        optimizer=optimizer,\n",
    "                        epochs=5)\n",
    "     "
   ]
  },
  {
   "cell_type": "code",
   "execution_count": 116,
   "metadata": {},
   "outputs": [
    {
     "data": {
      "application/vnd.jupyter.widget-view+json": {
       "model_id": "3b267f336b514ad48a9562f7c9bf159c",
       "version_major": 2,
       "version_minor": 0
      },
      "text/plain": [
       "  0%|          | 0/20 [00:00<?, ?it/s]"
      ]
     },
     "metadata": {},
     "output_type": "display_data"
    },
    {
     "name": "stdout",
     "output_type": "stream",
     "text": [
      "Epoch: 1 | train_loss: 1.1176 | train_acc: 0.2978 | test_loss: 1.0971 | test_acc: 0.3333\n",
      "Epoch: 2 | train_loss: 1.0998 | train_acc: 0.3022 | test_loss: 1.0994 | test_acc: 0.2533\n",
      "Epoch: 3 | train_loss: 1.0991 | train_acc: 0.3289 | test_loss: 1.0996 | test_acc: 0.3333\n",
      "Epoch: 4 | train_loss: 1.0989 | train_acc: 0.3244 | test_loss: 1.0999 | test_acc: 0.3333\n",
      "Epoch: 5 | train_loss: 1.0989 | train_acc: 0.3111 | test_loss: 1.0999 | test_acc: 0.3333\n",
      "Epoch: 6 | train_loss: 1.0985 | train_acc: 0.3644 | test_loss: 1.0965 | test_acc: 0.3333\n",
      "Epoch: 7 | train_loss: 1.0559 | train_acc: 0.4533 | test_loss: 1.1041 | test_acc: 0.4267\n",
      "Epoch: 8 | train_loss: 0.9398 | train_acc: 0.5600 | test_loss: 1.0833 | test_acc: 0.4133\n",
      "Epoch: 9 | train_loss: 0.9273 | train_acc: 0.5511 | test_loss: 1.1289 | test_acc: 0.5067\n",
      "Epoch: 10 | train_loss: 0.8423 | train_acc: 0.6133 | test_loss: 1.0385 | test_acc: 0.4533\n",
      "Epoch: 11 | train_loss: 0.8117 | train_acc: 0.6311 | test_loss: 1.0389 | test_acc: 0.4800\n",
      "Epoch: 12 | train_loss: 0.7264 | train_acc: 0.6933 | test_loss: 1.0900 | test_acc: 0.4667\n",
      "Epoch: 13 | train_loss: 0.7220 | train_acc: 0.7200 | test_loss: 1.1416 | test_acc: 0.4533\n",
      "Epoch: 14 | train_loss: 0.6619 | train_acc: 0.7333 | test_loss: 1.3494 | test_acc: 0.4667\n",
      "Epoch: 15 | train_loss: 0.6957 | train_acc: 0.7156 | test_loss: 1.0618 | test_acc: 0.5467\n",
      "Epoch: 16 | train_loss: 0.6372 | train_acc: 0.7378 | test_loss: 1.3991 | test_acc: 0.4133\n",
      "Epoch: 17 | train_loss: 0.5805 | train_acc: 0.7556 | test_loss: 1.2330 | test_acc: 0.5067\n",
      "Epoch: 18 | train_loss: 0.5256 | train_acc: 0.7689 | test_loss: 1.2683 | test_acc: 0.5467\n",
      "Epoch: 19 | train_loss: 0.5191 | train_acc: 0.7956 | test_loss: 1.5221 | test_acc: 0.4800\n",
      "Epoch: 20 | train_loss: 0.4760 | train_acc: 0.7733 | test_loss: 1.5230 | test_acc: 0.5200\n"
     ]
    }
   ],
   "source": [
    "# Train for 20 epochs\n",
    "torch.manual_seed(42)\n",
    "torch.cuda.manual_seed(42)\n",
    "model_1 = TinyVGG(input_shape=3,\n",
    "                  hidden_units=10,\n",
    "                  output_shape=len(class_names)).to(device)\n",
    "\n",
    "loss_fn = nn.CrossEntropyLoss()\n",
    "optimizer = torch.optim.Adam(model_1.parameters(), lr=0.001)\n",
    "\n",
    "model_1_results = train(model=model_1,\n",
    "                        train_dataloader=train_dataloader,\n",
    "                        test_dataloader=test_dataloader,\n",
    "                        optimizer=optimizer,\n",
    "                        epochs=20)"
   ]
  },
  {
   "cell_type": "code",
   "execution_count": 117,
   "metadata": {},
   "outputs": [
    {
     "data": {
      "application/vnd.jupyter.widget-view+json": {
       "model_id": "bda5ccddd9464fe2a0e4a2ebdd0ec7d6",
       "version_major": 2,
       "version_minor": 0
      },
      "text/plain": [
       "  0%|          | 0/50 [00:00<?, ?it/s]"
      ]
     },
     "metadata": {},
     "output_type": "display_data"
    },
    {
     "name": "stdout",
     "output_type": "stream",
     "text": [
      "Epoch: 1 | train_loss: 1.1176 | train_acc: 0.2978 | test_loss: 1.0971 | test_acc: 0.3333\n",
      "Epoch: 2 | train_loss: 1.0998 | train_acc: 0.3022 | test_loss: 1.0994 | test_acc: 0.2533\n",
      "Epoch: 3 | train_loss: 1.0991 | train_acc: 0.3289 | test_loss: 1.0996 | test_acc: 0.3333\n",
      "Epoch: 4 | train_loss: 1.0989 | train_acc: 0.3244 | test_loss: 1.0999 | test_acc: 0.3333\n",
      "Epoch: 5 | train_loss: 1.0989 | train_acc: 0.3111 | test_loss: 1.0999 | test_acc: 0.3333\n",
      "Epoch: 6 | train_loss: 1.0985 | train_acc: 0.3644 | test_loss: 1.0965 | test_acc: 0.3333\n",
      "Epoch: 7 | train_loss: 1.0559 | train_acc: 0.4533 | test_loss: 1.1041 | test_acc: 0.4267\n",
      "Epoch: 8 | train_loss: 0.9398 | train_acc: 0.5600 | test_loss: 1.0833 | test_acc: 0.4133\n",
      "Epoch: 9 | train_loss: 0.9273 | train_acc: 0.5511 | test_loss: 1.1289 | test_acc: 0.5067\n",
      "Epoch: 10 | train_loss: 0.8423 | train_acc: 0.6133 | test_loss: 1.0385 | test_acc: 0.4533\n",
      "Epoch: 11 | train_loss: 0.8117 | train_acc: 0.6311 | test_loss: 1.0389 | test_acc: 0.4800\n",
      "Epoch: 12 | train_loss: 0.7264 | train_acc: 0.6933 | test_loss: 1.0900 | test_acc: 0.4667\n",
      "Epoch: 13 | train_loss: 0.7220 | train_acc: 0.7200 | test_loss: 1.1416 | test_acc: 0.4533\n",
      "Epoch: 14 | train_loss: 0.6619 | train_acc: 0.7333 | test_loss: 1.3494 | test_acc: 0.4667\n",
      "Epoch: 15 | train_loss: 0.6957 | train_acc: 0.7156 | test_loss: 1.0618 | test_acc: 0.5467\n",
      "Epoch: 16 | train_loss: 0.6372 | train_acc: 0.7378 | test_loss: 1.3991 | test_acc: 0.4133\n",
      "Epoch: 17 | train_loss: 0.5805 | train_acc: 0.7556 | test_loss: 1.2330 | test_acc: 0.5067\n",
      "Epoch: 18 | train_loss: 0.5256 | train_acc: 0.7689 | test_loss: 1.2683 | test_acc: 0.5467\n",
      "Epoch: 19 | train_loss: 0.5191 | train_acc: 0.7956 | test_loss: 1.5221 | test_acc: 0.4800\n",
      "Epoch: 20 | train_loss: 0.4760 | train_acc: 0.7733 | test_loss: 1.5230 | test_acc: 0.5200\n",
      "Epoch: 21 | train_loss: 0.4943 | train_acc: 0.8133 | test_loss: 1.4974 | test_acc: 0.4800\n",
      "Epoch: 22 | train_loss: 0.4144 | train_acc: 0.8311 | test_loss: 1.9341 | test_acc: 0.4667\n",
      "Epoch: 23 | train_loss: 0.4377 | train_acc: 0.8044 | test_loss: 1.8060 | test_acc: 0.5200\n",
      "Epoch: 24 | train_loss: 0.3611 | train_acc: 0.8533 | test_loss: 1.8696 | test_acc: 0.5467\n",
      "Epoch: 25 | train_loss: 0.3626 | train_acc: 0.8489 | test_loss: 2.3659 | test_acc: 0.4533\n",
      "Epoch: 26 | train_loss: 0.2301 | train_acc: 0.9156 | test_loss: 2.4500 | test_acc: 0.4933\n",
      "Epoch: 27 | train_loss: 0.2978 | train_acc: 0.8622 | test_loss: 2.8689 | test_acc: 0.4533\n",
      "Epoch: 28 | train_loss: 0.2397 | train_acc: 0.9067 | test_loss: 2.6532 | test_acc: 0.4667\n",
      "Epoch: 29 | train_loss: 0.1950 | train_acc: 0.9378 | test_loss: 3.3317 | test_acc: 0.4800\n",
      "Epoch: 30 | train_loss: 0.2781 | train_acc: 0.8756 | test_loss: 2.8269 | test_acc: 0.4800\n",
      "Epoch: 31 | train_loss: 0.2127 | train_acc: 0.9378 | test_loss: 2.4123 | test_acc: 0.4933\n",
      "Epoch: 32 | train_loss: 0.1373 | train_acc: 0.9556 | test_loss: 3.1695 | test_acc: 0.4667\n",
      "Epoch: 33 | train_loss: 0.2142 | train_acc: 0.9511 | test_loss: 2.8016 | test_acc: 0.4267\n",
      "Epoch: 34 | train_loss: 0.1324 | train_acc: 0.9511 | test_loss: 3.1946 | test_acc: 0.4667\n",
      "Epoch: 35 | train_loss: 0.0865 | train_acc: 0.9778 | test_loss: 3.1409 | test_acc: 0.4800\n",
      "Epoch: 36 | train_loss: 0.1045 | train_acc: 0.9644 | test_loss: 3.3379 | test_acc: 0.4800\n",
      "Epoch: 37 | train_loss: 0.0706 | train_acc: 0.9822 | test_loss: 4.6603 | test_acc: 0.4800\n",
      "Epoch: 38 | train_loss: 0.0598 | train_acc: 0.9822 | test_loss: 4.5537 | test_acc: 0.4800\n",
      "Epoch: 39 | train_loss: 0.1637 | train_acc: 0.9200 | test_loss: 4.6156 | test_acc: 0.4400\n",
      "Epoch: 40 | train_loss: 0.0661 | train_acc: 0.9822 | test_loss: 4.6484 | test_acc: 0.5067\n",
      "Epoch: 41 | train_loss: 0.0774 | train_acc: 0.9733 | test_loss: 5.3495 | test_acc: 0.4933\n",
      "Epoch: 42 | train_loss: 0.0549 | train_acc: 0.9822 | test_loss: 4.0074 | test_acc: 0.5333\n",
      "Epoch: 43 | train_loss: 0.0402 | train_acc: 0.9822 | test_loss: 5.3164 | test_acc: 0.4667\n",
      "Epoch: 44 | train_loss: 0.0286 | train_acc: 0.9911 | test_loss: 5.7439 | test_acc: 0.4933\n",
      "Epoch: 45 | train_loss: 0.0303 | train_acc: 0.9867 | test_loss: 5.8230 | test_acc: 0.5333\n",
      "Epoch: 46 | train_loss: 0.0262 | train_acc: 0.9911 | test_loss: 6.0296 | test_acc: 0.4933\n",
      "Epoch: 47 | train_loss: 0.0254 | train_acc: 0.9956 | test_loss: 5.8131 | test_acc: 0.5067\n",
      "Epoch: 48 | train_loss: 0.0222 | train_acc: 0.9956 | test_loss: 6.3565 | test_acc: 0.4400\n",
      "Epoch: 49 | train_loss: 0.0335 | train_acc: 0.9911 | test_loss: 7.8960 | test_acc: 0.4533\n",
      "Epoch: 50 | train_loss: 0.1838 | train_acc: 0.9644 | test_loss: 5.4141 | test_acc: 0.4267\n"
     ]
    }
   ],
   "source": [
    "# Train for 50 epochs\n",
    "torch.manual_seed(42)\n",
    "torch.cuda.manual_seed(42)\n",
    "model_2 = TinyVGG(input_shape=3,\n",
    "                  hidden_units=10,\n",
    "                  output_shape=len(class_names)).to(device)\n",
    "\n",
    "loss_fn = nn.CrossEntropyLoss()\n",
    "optimizer = torch.optim.Adam(model_2.parameters(), lr=0.001)\n",
    "\n",
    "model_2_results = train(model=model_2,\n",
    "                        train_dataloader=train_dataloader,\n",
    "                        test_dataloader=test_dataloader,\n",
    "                        optimizer=optimizer,\n",
    "                        epochs=50)"
   ]
  },
  {
   "cell_type": "markdown",
   "metadata": {
    "id": "JeFREaAwLOuS",
    "tags": []
   },
   "source": [
    "## Extra-curriculum\n",
    "\n",
    "* To practice your knowledge of PyTorch `Dataset`'s and `DataLoader`'s through PyTorch [datasets and dataloaders tutorial notebook](https://pytorch.org/tutorials/beginner/basics/data_tutorial.html).\n",
    "* Spend 10-minutes reading the [PyTorch `torchvision.transforms` documentation](https://pytorch.org/vision/stable/transforms.html).\n",
    "    * You can see demos of transforms in action in the [illustrations of transforms tutorial](https://pytorch.org/vision/stable/auto_examples/plot_transforms.html#illustration-of-transforms). \n",
    "* Spend 10-minutes reading the PyTorch [`torchvision.datasets` documentation](https://pytorch.org/vision/stable/datasets.html).\n",
    "    * What are some datasets that stand out to you?\n",
    "    * How could you try building a model on these?\n",
    "\n",
    "* To speed up deep learning models, you can do a few tricks to improve compute, memory and overhead computations, for more read the post [*Making Deep Learning Go Brrrr From First Principles*](https://horace.io/brrr_intro.html) by Horace He. "
   ]
  },
  {
   "cell_type": "code",
   "execution_count": null,
   "metadata": {},
   "outputs": [],
   "source": []
  },
  {
   "cell_type": "code",
   "execution_count": null,
   "metadata": {},
   "outputs": [],
   "source": []
  }
 ],
 "metadata": {
  "colab": {
   "provenance": []
  },
  "interpreter": {
   "hash": "3fbe1355223f7b2ffc113ba3ade6a2b520cadace5d5ec3e828c83ce02eb221bf"
  },
  "kernelspec": {
   "display_name": "Python 3 (ipykernel)",
   "language": "python",
   "name": "python3"
  },
  "language_info": {
   "codemirror_mode": {
    "name": "ipython",
    "version": 3
   },
   "file_extension": ".py",
   "mimetype": "text/x-python",
   "name": "python",
   "nbconvert_exporter": "python",
   "pygments_lexer": "ipython3",
   "version": "3.9.16"
  }
 },
 "nbformat": 4,
 "nbformat_minor": 1
}
