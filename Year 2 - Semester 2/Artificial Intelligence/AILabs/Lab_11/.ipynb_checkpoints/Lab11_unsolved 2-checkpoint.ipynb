{
 "cells": [
  {
   "cell_type": "markdown",
   "metadata": {},
   "source": [
    "# Lab 11: Evolutionary computation\n",
    "\n",
    "### Consider the following example:\n",
    "\n",
    "Determine the minimum of the function $f(x)= x_1^2+...+x_n^2$ with $x_i \\in [-5.12, 5.12]$, $i \\in \\overline{(1, n)}$\n",
    "\n",
    "We have an example of steady state genetic algorithm with:  representation an array of real numbers; 100 individuals; crossover $$child = \\alpha \\cdot (parent1 - parent2) + parent2 ;$$ mutation - reinitialise on a random position the individual's value."
   ]
  },
  {
   "cell_type": "code",
   "execution_count": 21,
   "metadata": {},
   "outputs": [
    {
     "name": "stdout",
     "output_type": "stream",
     "text": [
      "(8.778830493379013e-30, [2.8430337991294952e-15, 8.34259737963137e-16])\n",
      "Result: The detected minimum point after 10000 iterations is f(0.00 0.00) = 0.00\n"
     ]
    }
   ],
   "source": [
    "from random import randint, random\n",
    "from operator import add\n",
    "from math import cos, pi\n",
    "\n",
    "\n",
    "def individual(length, vmin, vmax):\n",
    "    '''\n",
    "    Create a member of the population - an individual\n",
    "\n",
    "    length: the number of genes (components)\n",
    "    vmin: the minimum possible value \n",
    "    vmax: the maximum possible value \n",
    "    '''\n",
    "    return [ (random()*(vmax-vmin)+vmin) for x in range(length) ]\n",
    "    \n",
    "def population(count, length, vmin, vmax):\n",
    "    \"\"\"\n",
    "    Create a number of individuals (i.e. a population).\n",
    "\n",
    "    count: the number of individuals in the population\n",
    "    length: the number of values per individual\n",
    "    vmin: the minimum possible value \n",
    "    vmax: the maximum possible value \n",
    "    \"\"\"\n",
    "    return [ individual(length, vmin, vmax) for x in range(count) ]\n",
    "\n",
    "def fitness(individual):\n",
    "    \"\"\"\n",
    "    Determine the fitness of an individual. Lower is better.(min problem)\n",
    "    For this problem we have the Rastrigin function\n",
    "    \n",
    "    individual: the individual to evaluate\n",
    "    \"\"\"\n",
    "    n=len(individual)\n",
    "    f=0;\n",
    "    for i in range(n):\n",
    "        f=f+individual[i]*individual[i]\n",
    "    return f\n",
    "    \n",
    "def mutate(individual, pM, vmin, vmax): \n",
    "    '''\n",
    "    Performs a mutation on an individual with the probability of pM.\n",
    "    If the event will take place, at a random position a new value will be\n",
    "    generated in the interval [vmin, vmax]\n",
    "\n",
    "    individual:the individual to be mutated\n",
    "    pM: the probability the mutation to occure\n",
    "    vmin: the minimum possible value \n",
    "    vmax: the maximum possible value\n",
    "    '''\n",
    "    if pM > random():\n",
    "            p = randint(0, len(individual)-1)\n",
    "            individual[p] = random()*(vmax-vmin)+vmin\n",
    "    return individual\n",
    "    \n",
    "def crossover(parent1, parent2):\n",
    "    '''\n",
    "    crossover between 2 parents\n",
    "    '''\n",
    "    child=[]\n",
    "    alpha=random()\n",
    "    for x in range(len(parent1)):\n",
    "        child.append(alpha*(parent1[x]-parent2[x])+parent2[x])\n",
    "    return child\n",
    "\n",
    "def iteration(pop, pM, vmin, vmax):\n",
    "    '''\n",
    "    an iteration\n",
    "\n",
    "    pop: the current population\n",
    "    pM: the probability the mutation to occure\n",
    "    vmin: the minimum possible value \n",
    "    vmax: the maximum possible value\n",
    "    '''\n",
    "    i1=randint(0,len(pop)-1)\n",
    "    i2=randint(0,len(pop)-1)\n",
    "    if (i1!=i2):\n",
    "        c=crossover(pop[i1],pop[i2])\n",
    "        c=mutate(c, pM, vmin, vmax)\n",
    "        f1=fitness(pop[i1])\n",
    "        f2=fitness(pop[i2])\n",
    "        '''\n",
    "        the repeated evaluation of the parents can be avoided\n",
    "        if  next to the values stored in the individuals we \n",
    "        keep also their fitnesses \n",
    "        '''\n",
    "        fc=fitness(c)\n",
    "        if(f1>f2) and (f1>fc):\n",
    "            pop[i1]=c\n",
    "        if(f2>f1) and (f2>fc):\n",
    "            pop[i2]=c\n",
    "    return pop\n",
    "\n",
    "def main(noIteratii=10000):\n",
    "    #PARAMETERS:\n",
    "    \n",
    "    #population size\n",
    "    dimPopulation = 100\n",
    "    #individual size\n",
    "    dimIndividual = 2\n",
    "    #the boundries of the search interval\n",
    "    vmin = -5.12\n",
    "    vmax = 5.12\n",
    "    #the mutation probability\n",
    "    pM=0.01\n",
    "    \n",
    "    P = population(dimPopulation, dimIndividual, vmin, vmax)\n",
    "    for i in range(noIteratii):\n",
    "        P = iteration(P, pM, vmin, vmax)\n",
    "\n",
    "    #print the best individual\n",
    "    graded = [ (fitness(x), x) for x in P]\n",
    "    graded =  sorted(graded)\n",
    "    result=graded[0]\n",
    "    fitnessOptim=result[0]\n",
    "    individualOptim=result[1]\n",
    "    print('Result: The detected minimum point after %d iterations is f(%3.2f %3.2f) = %3.2f'% \\\n",
    "          (noIteratii,individualOptim[0],individualOptim[1], fitnessOptim) )\n",
    "        \n",
    "main()"
   ]
  },
  {
   "cell_type": "markdown",
   "metadata": {},
   "source": [
    "Exercise 1:  Construct a similar algorithm to the one provided as an example for the Bukin function N.6 (see previous lab for this function).\n"
   ]
  },
  {
   "cell_type": "code",
   "execution_count": 23,
   "metadata": {},
   "outputs": [
    {
     "name": "stdout",
     "output_type": "stream",
     "text": [
      "Result: The detected minimum point after 10000 iterations is f(-8.92 0.80) = 0.01\n"
     ]
    }
   ],
   "source": [
    "from random import randint, random\n",
    "from operator import add\n",
    "from math import cos, sqrt, pi\n",
    "import numpy as np\n",
    "\n",
    "def individual(length, xmin, xmax, ymin, ymax):\n",
    "    '''\n",
    "    Create a member of the population - an individual\n",
    "\n",
    "    length: the number of genes (components)\n",
    "    xmin: the minimum possible value for x\n",
    "    xmax: the maximum possible value for x\n",
    "    ymin: the minimum possible value for y\n",
    "    ymax: the maximum possible value for y\n",
    "    '''\n",
    "    return [(random()*(xmax-xmin)+xmin, random()*(ymax-ymin)+ymin) for _ in range(length) ]\n",
    "    \n",
    "def population(count, length, xmin, xmax, ymin, ymax):\n",
    "    \"\"\"\n",
    "    Create a number of individuals (i.e. a population).\n",
    "\n",
    "    count: the number of individuals in the population\n",
    "    length: the number of values per individual\n",
    "    xmin: the minimum possible value for x\n",
    "    xmax: the maximum possible value for x\n",
    "    ymin: the minimum possible value for y\n",
    "    ymax: the maximum possible value for y\n",
    "    \"\"\"\n",
    "    return [ individual(length, xmin, xmax, ymin, ymax) for _ in range(count) ]\n",
    "\n",
    "def fitness(individual):\n",
    "    \"\"\"\n",
    "    Determine the fitness of an individual. Lower is better.(min problem)\n",
    "    For this problem we have the Rastrigin function\n",
    "    \n",
    "    individual: the individual to evaluate\n",
    "    \n",
    "    n=len(individual)\n",
    "    f=0;\n",
    "    for i in range(n):\n",
    "        f=f+individual[i]*individual[i]\n",
    "    return f\n",
    "    \"\"\"\n",
    "    f_values = []\n",
    "    for x, y in individual:\n",
    "        f = 100 * abs(y - 0.01 * x ** 2) ** 0.5 + 0.01 * abs(x + 10)\n",
    "        f_values.append(f)\n",
    "    return f_values\n",
    "\n",
    "def mutate(individual, pM, xmin, xmax, ymin, ymax): \n",
    "    '''\n",
    "    Performs a mutation on an individual with the probability of pM.\n",
    "    If the event will take place, at a random position a new value will be\n",
    "    generated in the interval [vmin, vmax]\n",
    "\n",
    "    individual:the individual to be mutated\n",
    "    pM: the probability the mutation to occure\n",
    "    xmin: the minimum possible value for x\n",
    "    xmax: the maximum possible value for x\n",
    "    ymin: the minimum possible value for y\n",
    "    ymax: the maximum possible value for y\n",
    "    '''\n",
    "    if pM > random():\n",
    "            p = randint(0, len(individual)-1)\n",
    "            individual[p] = (\n",
    "                random() * (xmax - xmin) + xmin,\n",
    "                random() * (ymax - ymin) + ymin\n",
    "            )\n",
    "    return individual\n",
    "\n",
    "def crossover(parent1, parent2):\n",
    "    '''\n",
    "    crossover between 2 parents\n",
    "    '''\n",
    "    child=[]\n",
    "    alpha=random()\n",
    "    for x in range(len(parent1)):\n",
    "        child.append(\n",
    "            (\n",
    "                alpha * (parent1[x][0] - parent2[x][0]) + parent2[x][0],\n",
    "                alpha * (parent1[x][1] - parent2[x][1]) + parent2[x][1]\n",
    "            )\n",
    "        )\n",
    "    return child\n",
    "\n",
    "def iteration(pop, pM, xmin, xmax, ymin, ymax):\n",
    "    '''\n",
    "    an iteration\n",
    "\n",
    "    pop: the current population\n",
    "    pM: the probability the mutation to occure\n",
    "    xmin: the minimum possible value for x\n",
    "    xmax: the maximum possible value for x\n",
    "    ymin: the minimum possible value for y\n",
    "    ymax: the maximum possible value for y\n",
    "    '''\n",
    "    i1=randint(0,len(pop)-1)\n",
    "    i2=randint(0,len(pop)-1)\n",
    "    if (i1!=i2):\n",
    "        c=crossover(pop[i1],pop[i2])\n",
    "        c=mutate(c, pM, xmin, xmax, ymin, ymax)\n",
    "        f1=fitness(pop[i1])\n",
    "        f2=fitness(pop[i2])\n",
    "        '''\n",
    "        the repeated evaluation of the parents can be avoided\n",
    "        if  next to the values stored in the individuals we \n",
    "        keep also their fitnesses \n",
    "        '''\n",
    "        fc=fitness(c)\n",
    "        if(f1>f2) and (f1>fc):\n",
    "            pop[i1]=c\n",
    "        if(f2>f1) and (f2>fc):\n",
    "            pop[i2]=c\n",
    "    return pop\n",
    "\n",
    "def main(noIteratii=10000):\n",
    "    #PARAMETERS:\n",
    "    \n",
    "    #population size\n",
    "    dimPopulation = 100\n",
    "    #individual size\n",
    "    dimIndividual = 2\n",
    "    #the boundries of the search interval\n",
    "    xmin = -15\n",
    "    xmax = -5\n",
    "    ymin = -3\n",
    "    ymax = 3\n",
    "    #the mutation probability\n",
    "    pM=0.01\n",
    "    \n",
    "    P = population(dimPopulation, dimIndividual, xmin, xmax, ymin, ymax)\n",
    "    for i in range(noIteratii):\n",
    "        P = iteration(P, pM, xmin, xmax, ymin, ymax)\n",
    "\n",
    "    #print the best individual\n",
    "    graded = [ (fitness(x), x) for x in P]\n",
    "    graded =  sorted(graded)\n",
    "    result= graded[0]\n",
    "    fitnessOptim = result[0][0]  # Access the fitness value from the tuple\n",
    "    individualOptim = result[1][0]  # Access the individual from the tuple\n",
    "    print(\n",
    "        \"Result: The detected minimum point after %d iterations is f(%3.2f %3.2f) = %3.2f\"\n",
    "        % (\n",
    "            noIteratii,\n",
    "            individualOptim[0],\n",
    "            individualOptim[1],\n",
    "            fitnessOptim\n",
    "        )\n",
    "    )\n",
    "        \n",
    "main()"
   ]
  },
  {
   "cell_type": "markdown",
   "metadata": {},
   "source": [
    "Consider the knapsack problem:\n",
    "\n",
    "Consider a Knapsack with a total volum equal with $V_{max}$.\n",
    "\n",
    "There are $n$ objects, with values $(p_i)_{n}$ and volumes $(v_i)_n$.\n",
    "\n",
    "Solve this problem using a generationist Genetic Algorithm, with a binary representation.\n",
    "\n",
    "Exercise 2: Initialization\n",
    "Objective: Implement the initialization step of a genetic algorithm."
   ]
  },
  {
   "cell_type": "code",
   "execution_count": 32,
   "metadata": {},
   "outputs": [
    {
     "name": "stdout",
     "output_type": "stream",
     "text": [
      "[[1, 1, 1, 1, 1, 0, 0, 1], [0, 1, 0, 0, 0, 1, 0, 1], [0, 0, 1, 1, 1, 0, 1, 1], [0, 0, 1, 0, 0, 0, 1, 0], [0, 1, 1, 1, 0, 0, 1, 1], [1, 0, 1, 1, 0, 0, 1, 0], [0, 1, 1, 0, 1, 1, 0, 1], [1, 0, 1, 0, 0, 0, 1, 1], [1, 0, 0, 0, 1, 0, 1, 0], [1, 1, 0, 1, 0, 1, 1, 0]]\n"
     ]
    }
   ],
   "source": [
    "import random\n",
    "\n",
    "def initialize_population(population_size, chromosome_length):\n",
    "    # generate random a population with population_size number of individuals\n",
    "    # each individual with the size chromosome_length\n",
    "    # IN:  population_size, chromosome_length\n",
    "    # OUT: population\n",
    "    \n",
    "    # your code here\n",
    "    \n",
    "    population = []\n",
    "    for _ in range(population_size):\n",
    "        individual = []\n",
    "        for _ in range(chromosome_length):\n",
    "            gene = random.randint(0, 1)  # randomly generate 0 or 1\n",
    "            individual.append(gene)\n",
    "        population.append(individual)\n",
    "    return population\n",
    "\n",
    "\n",
    "# Test the initialization step\n",
    "population_size = 10\n",
    "chromosome_length = 8\n",
    "population = initialize_population(population_size, chromosome_length)\n",
    "print(population)\n"
   ]
  },
  {
   "cell_type": "markdown",
   "metadata": {},
   "source": [
    "Exercise 3: Fitness Evaluation\n",
    "\n",
    "Objective: Implement the fitness evaluation step of a genetic algorithm."
   ]
  },
  {
   "cell_type": "code",
   "execution_count": 38,
   "metadata": {},
   "outputs": [
    {
     "name": "stdout",
     "output_type": "stream",
     "text": [
      "[6, 3, 5, 2, 5, 4, 5, 4, 3, 5]\n"
     ]
    }
   ],
   "source": [
    "def evaluate_fitness(population):\n",
    "    # evaluate the fitness of each individual in the population\n",
    "    # IN:  population\n",
    "    # OUT: fitness_scores\n",
    "\n",
    "    # your code here\n",
    "    fitness_scores = []\n",
    "    for individual in population:\n",
    "        fitness = sum(individual)  # Fitness is the sum of all bits\n",
    "        fitness_scores.append(fitness)\n",
    "    \n",
    "    return fitness_scores\n",
    "\n",
    "# Test the fitness evaluation step\n",
    "fitness_scores = evaluate_fitness(population)\n",
    "print(fitness_scores)\n"
   ]
  },
  {
   "cell_type": "markdown",
   "metadata": {},
   "source": [
    "Exercise 4: Selection\n",
    "\n",
    "Objective: Implement the selection step of a genetic algorithm."
   ]
  },
  {
   "cell_type": "code",
   "execution_count": 39,
   "metadata": {},
   "outputs": [
    {
     "name": "stdout",
     "output_type": "stream",
     "text": [
      "[[0, 1, 1, 0, 1, 1, 0, 1], [1, 0, 0, 0, 1, 0, 1, 0]]\n"
     ]
    }
   ],
   "source": [
    "def select_parents(population, fitness_scores):\n",
    "    # select two parents from the population based on the fitness - \n",
    "    # the better the fitness, the higher the chance to be selected\n",
    "    # IN:  population, fitness_scores\n",
    "    # OUT: selected_parents\n",
    "\n",
    "    total_fitness = sum(fitness_scores)\n",
    "    probabilities = [fitness / total_fitness for fitness in fitness_scores]\n",
    "    selected_parents = random.choices(population, weights=probabilities, k=2)\n",
    "    \n",
    "    return selected_parents\n",
    "    \n",
    "# Test the selection step\n",
    "parents = select_parents(population, fitness_scores)\n",
    "print(parents)\n"
   ]
  },
  {
   "cell_type": "markdown",
   "metadata": {},
   "source": [
    "Exercise 5: Crossover\n",
    "\n",
    "Objective: Implement the crossover step of a genetic algorithm."
   ]
  },
  {
   "cell_type": "code",
   "execution_count": 40,
   "metadata": {},
   "outputs": [
    {
     "name": "stdout",
     "output_type": "stream",
     "text": [
      "([0, 0, 0, 0, 1, 0, 1, 0], [1, 1, 1, 0, 1, 1, 0, 1])\n"
     ]
    }
   ],
   "source": [
    "def crossover(parents):\n",
    "    # create two new offspring by combining the parents\n",
    "    # IN:  parents\n",
    "    # OUT: offspring\n",
    "\n",
    "    parent1, parent2 = parents\n",
    "    \n",
    "    # Choose a random crossover point\n",
    "    crossover_point = random.randint(1, len(parent1) - 1)\n",
    "    \n",
    "    # Perform crossover\n",
    "    offspring1 = parent1[:crossover_point] + parent2[crossover_point:]\n",
    "    offspring2 = parent2[:crossover_point] + parent1[crossover_point:]\n",
    "    \n",
    "    return offspring1, offspring2\n",
    "\n",
    "# Test the crossover step\n",
    "offspring = crossover(parents)\n",
    "print(offspring)\n"
   ]
  },
  {
   "cell_type": "markdown",
   "metadata": {},
   "source": [
    "Exercise 6: Mutation\n",
    "\n",
    "Objective: Implement the mutation step of a genetic algorithm."
   ]
  },
  {
   "cell_type": "code",
   "execution_count": 41,
   "metadata": {},
   "outputs": [
    {
     "name": "stdout",
     "output_type": "stream",
     "text": [
      "[[0, 1, 0, 0, 1, 0, 1, 0], [1, 1, 1, 0, 1, 1, 0, 1]]\n"
     ]
    }
   ],
   "source": [
    "def mutate(chromosome, mutation_rate):\n",
    "    # mutate the chromosome by randomly flipping bits\n",
    "    # IN:  chromosome, mutation_rate\n",
    "    # OUT: mutated_chromosome\n",
    "\n",
    "    mutated_chromosome = []\n",
    "    for bit in chromosome:\n",
    "        if random.random() < mutation_rate:\n",
    "            mutated_bit = 1 - bit  # Flip the bit\n",
    "        else:\n",
    "            mutated_bit = bit\n",
    "        mutated_chromosome.append(mutated_bit)\n",
    "    \n",
    "    return mutated_chromosome\n",
    "\n",
    "\n",
    "# Test the mutation step\n",
    "mutation_rate = 0.1\n",
    "mutated_offspring = [mutate(child, mutation_rate) for child in offspring]\n",
    "print(mutated_offspring)\n"
   ]
  },
  {
   "cell_type": "markdown",
   "metadata": {},
   "source": [
    "Exercise 7: Complete Genetic Algorithm\n",
    "\n",
    "Objective: Combine all the steps of a genetic algorithm to solve a specific problem."
   ]
  },
  {
   "cell_type": "code",
   "execution_count": 42,
   "metadata": {},
   "outputs": [
    {
     "name": "stdout",
     "output_type": "stream",
     "text": [
      "[[0, 0, 1, 0, 0, 1, 1, 0], [0, 1, 1, 0, 1, 1, 1, 1]]\n"
     ]
    }
   ],
   "source": [
    "def genetic_algorithm(population_size, chromosome_length, generations, mutation_rate):\n",
    "    \n",
    "    # complete genetic algorithm\n",
    "    # IN:  population_size, chromosome_length, generations, mutation_rate\n",
    "    # OUT: population\n",
    "\n",
    "\n",
    "    # initialize the population\n",
    "\n",
    "    # your code here\n",
    "    population = initialize_population(population_size, chromosome_length)\n",
    "\n",
    "    for _ in range(generations):\n",
    "        # Fitness evaluation\n",
    "        fitness_scores = evaluate_fitness(population)\n",
    "            # your code here\n",
    "        \n",
    "        # Selection\n",
    "        parents = select_parents(population, fitness_scores)\n",
    "\n",
    "            # your code here\n",
    "\n",
    "        # Crossover\n",
    "        offspring = crossover(parents)\n",
    "            # your code here\n",
    "\n",
    "        # Mutation\n",
    "        mutated_offspring = [mutate(child, mutation_rate) for child in offspring]\n",
    "            # your code here\n",
    "\n",
    "        # Replace the population with the new generation\n",
    "        population = mutated_offspring\n",
    "            # your code here\n",
    "\n",
    "    return population\n",
    "\n",
    "# Test the complete genetic algorithm\n",
    "population_size = 10\n",
    "chromosome_length = 8\n",
    "generations = 100\n",
    "mutation_rate = 0.1\n",
    "\n",
    "final_population = genetic_algorithm(population_size, chromosome_length, generations, mutation_rate)\n",
    "print(final_population)\n"
   ]
  },
  {
   "cell_type": "markdown",
   "metadata": {},
   "source": [
    "Exercise 8: Extract the result from the final population\n",
    "\n",
    "Objective: Get the best individual from the final population.\n"
   ]
  },
  {
   "cell_type": "code",
   "execution_count": 43,
   "metadata": {},
   "outputs": [
    {
     "name": "stdout",
     "output_type": "stream",
     "text": [
      "Best Individual: [1, 0, 1, 0, 1, 1, 1, 1]\n"
     ]
    }
   ],
   "source": [
    "# determine the best individual from the final population and print it out\n",
    "\n",
    "# your code here\n",
    "def genetic_algorithm(population_size, chromosome_length, generations, mutation_rate):\n",
    "    # complete genetic algorithm\n",
    "    # IN:  population_size, chromosome_length, generations, mutation_rate\n",
    "    # OUT: population\n",
    "\n",
    "    # Initialize the population\n",
    "    population = initialize_population(population_size, chromosome_length)\n",
    "\n",
    "    for _ in range(generations):\n",
    "        # Fitness evaluation\n",
    "        fitness_scores = evaluate_fitness(population)\n",
    "        \n",
    "        # Selection\n",
    "        parents = select_parents(population, fitness_scores)\n",
    "\n",
    "        # Crossover\n",
    "        offspring = crossover(parents)\n",
    "\n",
    "        # Mutation\n",
    "        mutated_offspring = [mutate(child, mutation_rate) for child in offspring]\n",
    "\n",
    "        # Replace the population with the new generation\n",
    "        population = mutated_offspring\n",
    "    \n",
    "    # Find the best individual from the final population\n",
    "    fitness_scores = evaluate_fitness(population)\n",
    "    best_individual_index = fitness_scores.index(max(fitness_scores))\n",
    "    best_individual = population[best_individual_index]\n",
    "    \n",
    "    return best_individual\n",
    "\n",
    "\n",
    "# Test the complete genetic algorithm\n",
    "population_size = 10\n",
    "chromosome_length = 8\n",
    "generations = 100\n",
    "mutation_rate = 0.1\n",
    "\n",
    "best_individual = genetic_algorithm(population_size, chromosome_length, generations, mutation_rate)\n",
    "print(\"Best Individual:\", best_individual)"
   ]
  }
 ],
 "metadata": {
  "kernel_info": {
   "name": "python"
  },
  "kernelspec": {
   "display_name": "Python 3 (ipykernel)",
   "language": "python",
   "name": "python3"
  },
  "language_info": {
   "codemirror_mode": {
    "name": "ipython",
    "version": 3
   },
   "file_extension": ".py",
   "mimetype": "text/x-python",
   "name": "python",
   "nbconvert_exporter": "python",
   "pygments_lexer": "ipython3",
   "version": "3.9.13"
  },
  "nteract": {
   "version": "nteract-front-end@1.0.0"
  }
 },
 "nbformat": 4,
 "nbformat_minor": 2
}
